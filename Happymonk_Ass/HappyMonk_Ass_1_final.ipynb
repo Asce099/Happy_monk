{
  "nbformat": 4,
  "nbformat_minor": 0,
  "metadata": {
    "colab": {
      "provenance": []
    },
    "kernelspec": {
      "name": "python3",
      "display_name": "Python 3"
    },
    "language_info": {
      "name": "python"
    },
    "accelerator": "GPU",
    "gpuClass": "standard"
  },
  "cells": [
    {
      "cell_type": "markdown",
      "source": [
        "# Question_1"
      ],
      "metadata": {
        "id": "qSQAAfvIfW9A"
      }
    },
    {
      "cell_type": "code",
      "source": [
        "import pandas as pd"
      ],
      "metadata": {
        "id": "LFAN2J0PJAnw"
      },
      "execution_count": null,
      "outputs": []
    },
    {
      "cell_type": "code",
      "source": [
        "big = pd.read_csv('/content/Data_1/20y_HDFC1.csv')\n",
        "big"
      ],
      "metadata": {
        "id": "mlhrvYwcXXeY",
        "colab": {
          "base_uri": "https://localhost:8080/",
          "height": 424
        },
        "outputId": "f06feff7-6034-4ccf-cf5b-37c0b42e2272"
      },
      "execution_count": null,
      "outputs": [
        {
          "output_type": "execute_result",
          "data": {
            "text/plain": [
              "           Date   Opening Price   High Price   Low Price   Closing Price   \\\n",
              "0     02-01-2012           428.9       429.80      419.50          426.85   \n",
              "1     03-01-2012           431.4       440.90      430.00          439.15   \n",
              "2     04-01-2012           441.9       444.95      430.85          443.30   \n",
              "3     05-01-2012           444.0       446.70      440.30          443.65   \n",
              "4     06-01-2012           441.0       457.15      438.95          453.30   \n",
              "...          ...             ...          ...         ...             ...   \n",
              "2635  19-08-2022          1510.0      1512.00     1490.00         1493.05   \n",
              "2636  22-08-2022          1484.8      1488.35     1467.70         1470.35   \n",
              "2637  23-08-2022          1453.3      1475.95     1450.40         1465.80   \n",
              "2638  24-08-2022          1461.9      1475.50     1459.20         1472.85   \n",
              "2639  25-08-2022          1479.9      1486.80     1457.00         1464.85   \n",
              "\n",
              "      Shares Outstanding   Market Capitalisation   EPS    P/E   P/B   \\\n",
              "0              2341315020              999390.32  20.61  20.71  3.43   \n",
              "1              2341315020             1028188.49  20.61  21.31  3.53   \n",
              "2              2341315020             1037904.95  20.61  21.51  3.57   \n",
              "3              2341315020             1038724.41  20.61  21.53  3.57   \n",
              "4              2341315020             1061318.10  20.61  22.00  3.65   \n",
              "...                   ...                    ...    ...    ...   ...   \n",
              "2635           5562061276             8304435.59  63.98  23.34  3.45   \n",
              "2636           5562061276             8178176.80  63.98  22.98  3.40   \n",
              "2637           5562061276             8152869.42  63.98  22.91  3.39   \n",
              "2638           5562061276             8192081.95  63.98  23.02  3.40   \n",
              "2639           5562061276             8147585.46  63.98  22.90  3.39   \n",
              "\n",
              "      Shares traded  Number of Transactions   \n",
              "0           1757499                    33671  \n",
              "1           1719619                    32881  \n",
              "2           2435739                    42223  \n",
              "3           1690303                    32640  \n",
              "4           1988611                    44198  \n",
              "...             ...                      ...  \n",
              "2635        4031851                   147346  \n",
              "2636        4117033                   122931  \n",
              "2637        7483442                   144071  \n",
              "2638        6727760                   140656  \n",
              "2639        5911520                   127054  \n",
              "\n",
              "[2640 rows x 12 columns]"
            ],
            "text/html": [
              "\n",
              "  <div id=\"df-65efcaa6-fa48-4685-ad1b-3f878e7c38db\">\n",
              "    <div class=\"colab-df-container\">\n",
              "      <div>\n",
              "<style scoped>\n",
              "    .dataframe tbody tr th:only-of-type {\n",
              "        vertical-align: middle;\n",
              "    }\n",
              "\n",
              "    .dataframe tbody tr th {\n",
              "        vertical-align: top;\n",
              "    }\n",
              "\n",
              "    .dataframe thead th {\n",
              "        text-align: right;\n",
              "    }\n",
              "</style>\n",
              "<table border=\"1\" class=\"dataframe\">\n",
              "  <thead>\n",
              "    <tr style=\"text-align: right;\">\n",
              "      <th></th>\n",
              "      <th>Date</th>\n",
              "      <th>Opening Price</th>\n",
              "      <th>High Price</th>\n",
              "      <th>Low Price</th>\n",
              "      <th>Closing Price</th>\n",
              "      <th>Shares Outstanding</th>\n",
              "      <th>Market Capitalisation</th>\n",
              "      <th>EPS</th>\n",
              "      <th>P/E</th>\n",
              "      <th>P/B</th>\n",
              "      <th>Shares traded</th>\n",
              "      <th>Number of Transactions</th>\n",
              "    </tr>\n",
              "  </thead>\n",
              "  <tbody>\n",
              "    <tr>\n",
              "      <th>0</th>\n",
              "      <td>02-01-2012</td>\n",
              "      <td>428.9</td>\n",
              "      <td>429.80</td>\n",
              "      <td>419.50</td>\n",
              "      <td>426.85</td>\n",
              "      <td>2341315020</td>\n",
              "      <td>999390.32</td>\n",
              "      <td>20.61</td>\n",
              "      <td>20.71</td>\n",
              "      <td>3.43</td>\n",
              "      <td>1757499</td>\n",
              "      <td>33671</td>\n",
              "    </tr>\n",
              "    <tr>\n",
              "      <th>1</th>\n",
              "      <td>03-01-2012</td>\n",
              "      <td>431.4</td>\n",
              "      <td>440.90</td>\n",
              "      <td>430.00</td>\n",
              "      <td>439.15</td>\n",
              "      <td>2341315020</td>\n",
              "      <td>1028188.49</td>\n",
              "      <td>20.61</td>\n",
              "      <td>21.31</td>\n",
              "      <td>3.53</td>\n",
              "      <td>1719619</td>\n",
              "      <td>32881</td>\n",
              "    </tr>\n",
              "    <tr>\n",
              "      <th>2</th>\n",
              "      <td>04-01-2012</td>\n",
              "      <td>441.9</td>\n",
              "      <td>444.95</td>\n",
              "      <td>430.85</td>\n",
              "      <td>443.30</td>\n",
              "      <td>2341315020</td>\n",
              "      <td>1037904.95</td>\n",
              "      <td>20.61</td>\n",
              "      <td>21.51</td>\n",
              "      <td>3.57</td>\n",
              "      <td>2435739</td>\n",
              "      <td>42223</td>\n",
              "    </tr>\n",
              "    <tr>\n",
              "      <th>3</th>\n",
              "      <td>05-01-2012</td>\n",
              "      <td>444.0</td>\n",
              "      <td>446.70</td>\n",
              "      <td>440.30</td>\n",
              "      <td>443.65</td>\n",
              "      <td>2341315020</td>\n",
              "      <td>1038724.41</td>\n",
              "      <td>20.61</td>\n",
              "      <td>21.53</td>\n",
              "      <td>3.57</td>\n",
              "      <td>1690303</td>\n",
              "      <td>32640</td>\n",
              "    </tr>\n",
              "    <tr>\n",
              "      <th>4</th>\n",
              "      <td>06-01-2012</td>\n",
              "      <td>441.0</td>\n",
              "      <td>457.15</td>\n",
              "      <td>438.95</td>\n",
              "      <td>453.30</td>\n",
              "      <td>2341315020</td>\n",
              "      <td>1061318.10</td>\n",
              "      <td>20.61</td>\n",
              "      <td>22.00</td>\n",
              "      <td>3.65</td>\n",
              "      <td>1988611</td>\n",
              "      <td>44198</td>\n",
              "    </tr>\n",
              "    <tr>\n",
              "      <th>...</th>\n",
              "      <td>...</td>\n",
              "      <td>...</td>\n",
              "      <td>...</td>\n",
              "      <td>...</td>\n",
              "      <td>...</td>\n",
              "      <td>...</td>\n",
              "      <td>...</td>\n",
              "      <td>...</td>\n",
              "      <td>...</td>\n",
              "      <td>...</td>\n",
              "      <td>...</td>\n",
              "      <td>...</td>\n",
              "    </tr>\n",
              "    <tr>\n",
              "      <th>2635</th>\n",
              "      <td>19-08-2022</td>\n",
              "      <td>1510.0</td>\n",
              "      <td>1512.00</td>\n",
              "      <td>1490.00</td>\n",
              "      <td>1493.05</td>\n",
              "      <td>5562061276</td>\n",
              "      <td>8304435.59</td>\n",
              "      <td>63.98</td>\n",
              "      <td>23.34</td>\n",
              "      <td>3.45</td>\n",
              "      <td>4031851</td>\n",
              "      <td>147346</td>\n",
              "    </tr>\n",
              "    <tr>\n",
              "      <th>2636</th>\n",
              "      <td>22-08-2022</td>\n",
              "      <td>1484.8</td>\n",
              "      <td>1488.35</td>\n",
              "      <td>1467.70</td>\n",
              "      <td>1470.35</td>\n",
              "      <td>5562061276</td>\n",
              "      <td>8178176.80</td>\n",
              "      <td>63.98</td>\n",
              "      <td>22.98</td>\n",
              "      <td>3.40</td>\n",
              "      <td>4117033</td>\n",
              "      <td>122931</td>\n",
              "    </tr>\n",
              "    <tr>\n",
              "      <th>2637</th>\n",
              "      <td>23-08-2022</td>\n",
              "      <td>1453.3</td>\n",
              "      <td>1475.95</td>\n",
              "      <td>1450.40</td>\n",
              "      <td>1465.80</td>\n",
              "      <td>5562061276</td>\n",
              "      <td>8152869.42</td>\n",
              "      <td>63.98</td>\n",
              "      <td>22.91</td>\n",
              "      <td>3.39</td>\n",
              "      <td>7483442</td>\n",
              "      <td>144071</td>\n",
              "    </tr>\n",
              "    <tr>\n",
              "      <th>2638</th>\n",
              "      <td>24-08-2022</td>\n",
              "      <td>1461.9</td>\n",
              "      <td>1475.50</td>\n",
              "      <td>1459.20</td>\n",
              "      <td>1472.85</td>\n",
              "      <td>5562061276</td>\n",
              "      <td>8192081.95</td>\n",
              "      <td>63.98</td>\n",
              "      <td>23.02</td>\n",
              "      <td>3.40</td>\n",
              "      <td>6727760</td>\n",
              "      <td>140656</td>\n",
              "    </tr>\n",
              "    <tr>\n",
              "      <th>2639</th>\n",
              "      <td>25-08-2022</td>\n",
              "      <td>1479.9</td>\n",
              "      <td>1486.80</td>\n",
              "      <td>1457.00</td>\n",
              "      <td>1464.85</td>\n",
              "      <td>5562061276</td>\n",
              "      <td>8147585.46</td>\n",
              "      <td>63.98</td>\n",
              "      <td>22.90</td>\n",
              "      <td>3.39</td>\n",
              "      <td>5911520</td>\n",
              "      <td>127054</td>\n",
              "    </tr>\n",
              "  </tbody>\n",
              "</table>\n",
              "<p>2640 rows × 12 columns</p>\n",
              "</div>\n",
              "      <button class=\"colab-df-convert\" onclick=\"convertToInteractive('df-65efcaa6-fa48-4685-ad1b-3f878e7c38db')\"\n",
              "              title=\"Convert this dataframe to an interactive table.\"\n",
              "              style=\"display:none;\">\n",
              "        \n",
              "  <svg xmlns=\"http://www.w3.org/2000/svg\" height=\"24px\"viewBox=\"0 0 24 24\"\n",
              "       width=\"24px\">\n",
              "    <path d=\"M0 0h24v24H0V0z\" fill=\"none\"/>\n",
              "    <path d=\"M18.56 5.44l.94 2.06.94-2.06 2.06-.94-2.06-.94-.94-2.06-.94 2.06-2.06.94zm-11 1L8.5 8.5l.94-2.06 2.06-.94-2.06-.94L8.5 2.5l-.94 2.06-2.06.94zm10 10l.94 2.06.94-2.06 2.06-.94-2.06-.94-.94-2.06-.94 2.06-2.06.94z\"/><path d=\"M17.41 7.96l-1.37-1.37c-.4-.4-.92-.59-1.43-.59-.52 0-1.04.2-1.43.59L10.3 9.45l-7.72 7.72c-.78.78-.78 2.05 0 2.83L4 21.41c.39.39.9.59 1.41.59.51 0 1.02-.2 1.41-.59l7.78-7.78 2.81-2.81c.8-.78.8-2.07 0-2.86zM5.41 20L4 18.59l7.72-7.72 1.47 1.35L5.41 20z\"/>\n",
              "  </svg>\n",
              "      </button>\n",
              "      \n",
              "  <style>\n",
              "    .colab-df-container {\n",
              "      display:flex;\n",
              "      flex-wrap:wrap;\n",
              "      gap: 12px;\n",
              "    }\n",
              "\n",
              "    .colab-df-convert {\n",
              "      background-color: #E8F0FE;\n",
              "      border: none;\n",
              "      border-radius: 50%;\n",
              "      cursor: pointer;\n",
              "      display: none;\n",
              "      fill: #1967D2;\n",
              "      height: 32px;\n",
              "      padding: 0 0 0 0;\n",
              "      width: 32px;\n",
              "    }\n",
              "\n",
              "    .colab-df-convert:hover {\n",
              "      background-color: #E2EBFA;\n",
              "      box-shadow: 0px 1px 2px rgba(60, 64, 67, 0.3), 0px 1px 3px 1px rgba(60, 64, 67, 0.15);\n",
              "      fill: #174EA6;\n",
              "    }\n",
              "\n",
              "    [theme=dark] .colab-df-convert {\n",
              "      background-color: #3B4455;\n",
              "      fill: #D2E3FC;\n",
              "    }\n",
              "\n",
              "    [theme=dark] .colab-df-convert:hover {\n",
              "      background-color: #434B5C;\n",
              "      box-shadow: 0px 1px 3px 1px rgba(0, 0, 0, 0.15);\n",
              "      filter: drop-shadow(0px 1px 2px rgba(0, 0, 0, 0.3));\n",
              "      fill: #FFFFFF;\n",
              "    }\n",
              "  </style>\n",
              "\n",
              "      <script>\n",
              "        const buttonEl =\n",
              "          document.querySelector('#df-65efcaa6-fa48-4685-ad1b-3f878e7c38db button.colab-df-convert');\n",
              "        buttonEl.style.display =\n",
              "          google.colab.kernel.accessAllowed ? 'block' : 'none';\n",
              "\n",
              "        async function convertToInteractive(key) {\n",
              "          const element = document.querySelector('#df-65efcaa6-fa48-4685-ad1b-3f878e7c38db');\n",
              "          const dataTable =\n",
              "            await google.colab.kernel.invokeFunction('convertToInteractive',\n",
              "                                                     [key], {});\n",
              "          if (!dataTable) return;\n",
              "\n",
              "          const docLinkHtml = 'Like what you see? Visit the ' +\n",
              "            '<a target=\"_blank\" href=https://colab.research.google.com/notebooks/data_table.ipynb>data table notebook</a>'\n",
              "            + ' to learn more about interactive tables.';\n",
              "          element.innerHTML = '';\n",
              "          dataTable['output_type'] = 'display_data';\n",
              "          await google.colab.output.renderOutput(dataTable, element);\n",
              "          const docLink = document.createElement('div');\n",
              "          docLink.innerHTML = docLinkHtml;\n",
              "          element.appendChild(docLink);\n",
              "        }\n",
              "      </script>\n",
              "    </div>\n",
              "  </div>\n",
              "  "
            ]
          },
          "metadata": {},
          "execution_count": 2
        }
      ]
    },
    {
      "cell_type": "markdown",
      "source": [
        "It is data of 12 fields of HDFC bank recorded per day for last 11 years. Extracted from CMIE portal  "
      ],
      "metadata": {
        "id": "jefFcBvmhKT-"
      }
    },
    {
      "cell_type": "code",
      "source": [
        "small = pd.read_csv('/content/Data_1/10Y_HDFC.csv')\n",
        "small"
      ],
      "metadata": {
        "id": "I6aB8yYeXIal",
        "colab": {
          "base_uri": "https://localhost:8080/",
          "height": 468
        },
        "outputId": "a0e93060-b1ed-41c2-b46c-810324ef17bc"
      },
      "execution_count": null,
      "outputs": [
        {
          "output_type": "execute_result",
          "data": {
            "text/plain": [
              "       Years  Opening Price   High Price    Low Price   Closing Price   \\\n",
              "0     2022.0     1423.386957  1155.537480  1408.463354     1424.315217   \n",
              "1     2021.0     1512.825605  1527.565726  1497.031855     1512.017339   \n",
              "2     2020.0     1129.536706  1143.908929  1110.851587     1127.553175   \n",
              "3     2019.0     1977.610816  1992.242653  1960.096531     1975.930612   \n",
              "4     2018.0     2001.009146  2016.597154  1985.956911     2001.619106   \n",
              "...      ...             ...          ...          ...             ...   \n",
              "4808     NaN             NaN          NaN          NaN             NaN   \n",
              "4809     NaN             NaN          NaN          NaN             NaN   \n",
              "4810     NaN             NaN          NaN          NaN             NaN   \n",
              "4811  2022.0     1423.386957  1438.369255  1408.463354     1424.315217   \n",
              "4812  2021.0             NaN          NaN          NaN             NaN   \n",
              "\n",
              "      Shares Outstanding   Market Capitalisation       EPS        P/E   \\\n",
              "0            5.549343e+09            7903823.992  61.299565  23.269006   \n",
              "1            5.525106e+09            8354373.205  54.357581  27.820685   \n",
              "2            5.492359e+09            6193669.926  48.198651  23.447302   \n",
              "3            3.500453e+09            6354404.981  63.004857  31.366980   \n",
              "4            2.646931e+09            5300348.711  63.493902  31.527276   \n",
              "...                   ...                    ...        ...        ...   \n",
              "4808                  NaN                    NaN        NaN        NaN   \n",
              "4809                  NaN                    NaN        NaN        NaN   \n",
              "4810                  NaN                    NaN        NaN        NaN   \n",
              "4811         5.549343e+09            7903823.992  61.299565  23.269006   \n",
              "4812                  NaN                    NaN        NaN        NaN   \n",
              "\n",
              "          P/B   Shares traded  Number of Transactions   \n",
              "0     3.388075   8.716541e+06             237246.39750  \n",
              "1     4.064677   7.531141e+06             201459.85080  \n",
              "2     3.550159   1.420975e+07             267225.55950  \n",
              "3     4.385388   4.223841e+06             137383.62860  \n",
              "4     4.797073   2.439423e+06              80683.64634  \n",
              "...        ...            ...                      ...  \n",
              "4808       NaN            NaN                      NaN  \n",
              "4809       NaN            NaN                      NaN  \n",
              "4810       NaN            NaN                      NaN  \n",
              "4811  3.388075   8.716541e+06             237246.39750  \n",
              "4812       NaN            NaN                      NaN  \n",
              "\n",
              "[4813 rows x 12 columns]"
            ],
            "text/html": [
              "\n",
              "  <div id=\"df-2c5ff8af-3fa0-49e9-aa0a-9d60bacfd5c0\">\n",
              "    <div class=\"colab-df-container\">\n",
              "      <div>\n",
              "<style scoped>\n",
              "    .dataframe tbody tr th:only-of-type {\n",
              "        vertical-align: middle;\n",
              "    }\n",
              "\n",
              "    .dataframe tbody tr th {\n",
              "        vertical-align: top;\n",
              "    }\n",
              "\n",
              "    .dataframe thead th {\n",
              "        text-align: right;\n",
              "    }\n",
              "</style>\n",
              "<table border=\"1\" class=\"dataframe\">\n",
              "  <thead>\n",
              "    <tr style=\"text-align: right;\">\n",
              "      <th></th>\n",
              "      <th>Years</th>\n",
              "      <th>Opening Price</th>\n",
              "      <th>High Price</th>\n",
              "      <th>Low Price</th>\n",
              "      <th>Closing Price</th>\n",
              "      <th>Shares Outstanding</th>\n",
              "      <th>Market Capitalisation</th>\n",
              "      <th>EPS</th>\n",
              "      <th>P/E</th>\n",
              "      <th>P/B</th>\n",
              "      <th>Shares traded</th>\n",
              "      <th>Number of Transactions</th>\n",
              "    </tr>\n",
              "  </thead>\n",
              "  <tbody>\n",
              "    <tr>\n",
              "      <th>0</th>\n",
              "      <td>2022.0</td>\n",
              "      <td>1423.386957</td>\n",
              "      <td>1155.537480</td>\n",
              "      <td>1408.463354</td>\n",
              "      <td>1424.315217</td>\n",
              "      <td>5.549343e+09</td>\n",
              "      <td>7903823.992</td>\n",
              "      <td>61.299565</td>\n",
              "      <td>23.269006</td>\n",
              "      <td>3.388075</td>\n",
              "      <td>8.716541e+06</td>\n",
              "      <td>237246.39750</td>\n",
              "    </tr>\n",
              "    <tr>\n",
              "      <th>1</th>\n",
              "      <td>2021.0</td>\n",
              "      <td>1512.825605</td>\n",
              "      <td>1527.565726</td>\n",
              "      <td>1497.031855</td>\n",
              "      <td>1512.017339</td>\n",
              "      <td>5.525106e+09</td>\n",
              "      <td>8354373.205</td>\n",
              "      <td>54.357581</td>\n",
              "      <td>27.820685</td>\n",
              "      <td>4.064677</td>\n",
              "      <td>7.531141e+06</td>\n",
              "      <td>201459.85080</td>\n",
              "    </tr>\n",
              "    <tr>\n",
              "      <th>2</th>\n",
              "      <td>2020.0</td>\n",
              "      <td>1129.536706</td>\n",
              "      <td>1143.908929</td>\n",
              "      <td>1110.851587</td>\n",
              "      <td>1127.553175</td>\n",
              "      <td>5.492359e+09</td>\n",
              "      <td>6193669.926</td>\n",
              "      <td>48.198651</td>\n",
              "      <td>23.447302</td>\n",
              "      <td>3.550159</td>\n",
              "      <td>1.420975e+07</td>\n",
              "      <td>267225.55950</td>\n",
              "    </tr>\n",
              "    <tr>\n",
              "      <th>3</th>\n",
              "      <td>2019.0</td>\n",
              "      <td>1977.610816</td>\n",
              "      <td>1992.242653</td>\n",
              "      <td>1960.096531</td>\n",
              "      <td>1975.930612</td>\n",
              "      <td>3.500453e+09</td>\n",
              "      <td>6354404.981</td>\n",
              "      <td>63.004857</td>\n",
              "      <td>31.366980</td>\n",
              "      <td>4.385388</td>\n",
              "      <td>4.223841e+06</td>\n",
              "      <td>137383.62860</td>\n",
              "    </tr>\n",
              "    <tr>\n",
              "      <th>4</th>\n",
              "      <td>2018.0</td>\n",
              "      <td>2001.009146</td>\n",
              "      <td>2016.597154</td>\n",
              "      <td>1985.956911</td>\n",
              "      <td>2001.619106</td>\n",
              "      <td>2.646931e+09</td>\n",
              "      <td>5300348.711</td>\n",
              "      <td>63.493902</td>\n",
              "      <td>31.527276</td>\n",
              "      <td>4.797073</td>\n",
              "      <td>2.439423e+06</td>\n",
              "      <td>80683.64634</td>\n",
              "    </tr>\n",
              "    <tr>\n",
              "      <th>...</th>\n",
              "      <td>...</td>\n",
              "      <td>...</td>\n",
              "      <td>...</td>\n",
              "      <td>...</td>\n",
              "      <td>...</td>\n",
              "      <td>...</td>\n",
              "      <td>...</td>\n",
              "      <td>...</td>\n",
              "      <td>...</td>\n",
              "      <td>...</td>\n",
              "      <td>...</td>\n",
              "      <td>...</td>\n",
              "    </tr>\n",
              "    <tr>\n",
              "      <th>4808</th>\n",
              "      <td>NaN</td>\n",
              "      <td>NaN</td>\n",
              "      <td>NaN</td>\n",
              "      <td>NaN</td>\n",
              "      <td>NaN</td>\n",
              "      <td>NaN</td>\n",
              "      <td>NaN</td>\n",
              "      <td>NaN</td>\n",
              "      <td>NaN</td>\n",
              "      <td>NaN</td>\n",
              "      <td>NaN</td>\n",
              "      <td>NaN</td>\n",
              "    </tr>\n",
              "    <tr>\n",
              "      <th>4809</th>\n",
              "      <td>NaN</td>\n",
              "      <td>NaN</td>\n",
              "      <td>NaN</td>\n",
              "      <td>NaN</td>\n",
              "      <td>NaN</td>\n",
              "      <td>NaN</td>\n",
              "      <td>NaN</td>\n",
              "      <td>NaN</td>\n",
              "      <td>NaN</td>\n",
              "      <td>NaN</td>\n",
              "      <td>NaN</td>\n",
              "      <td>NaN</td>\n",
              "    </tr>\n",
              "    <tr>\n",
              "      <th>4810</th>\n",
              "      <td>NaN</td>\n",
              "      <td>NaN</td>\n",
              "      <td>NaN</td>\n",
              "      <td>NaN</td>\n",
              "      <td>NaN</td>\n",
              "      <td>NaN</td>\n",
              "      <td>NaN</td>\n",
              "      <td>NaN</td>\n",
              "      <td>NaN</td>\n",
              "      <td>NaN</td>\n",
              "      <td>NaN</td>\n",
              "      <td>NaN</td>\n",
              "    </tr>\n",
              "    <tr>\n",
              "      <th>4811</th>\n",
              "      <td>2022.0</td>\n",
              "      <td>1423.386957</td>\n",
              "      <td>1438.369255</td>\n",
              "      <td>1408.463354</td>\n",
              "      <td>1424.315217</td>\n",
              "      <td>5.549343e+09</td>\n",
              "      <td>7903823.992</td>\n",
              "      <td>61.299565</td>\n",
              "      <td>23.269006</td>\n",
              "      <td>3.388075</td>\n",
              "      <td>8.716541e+06</td>\n",
              "      <td>237246.39750</td>\n",
              "    </tr>\n",
              "    <tr>\n",
              "      <th>4812</th>\n",
              "      <td>2021.0</td>\n",
              "      <td>NaN</td>\n",
              "      <td>NaN</td>\n",
              "      <td>NaN</td>\n",
              "      <td>NaN</td>\n",
              "      <td>NaN</td>\n",
              "      <td>NaN</td>\n",
              "      <td>NaN</td>\n",
              "      <td>NaN</td>\n",
              "      <td>NaN</td>\n",
              "      <td>NaN</td>\n",
              "      <td>NaN</td>\n",
              "    </tr>\n",
              "  </tbody>\n",
              "</table>\n",
              "<p>4813 rows × 12 columns</p>\n",
              "</div>\n",
              "      <button class=\"colab-df-convert\" onclick=\"convertToInteractive('df-2c5ff8af-3fa0-49e9-aa0a-9d60bacfd5c0')\"\n",
              "              title=\"Convert this dataframe to an interactive table.\"\n",
              "              style=\"display:none;\">\n",
              "        \n",
              "  <svg xmlns=\"http://www.w3.org/2000/svg\" height=\"24px\"viewBox=\"0 0 24 24\"\n",
              "       width=\"24px\">\n",
              "    <path d=\"M0 0h24v24H0V0z\" fill=\"none\"/>\n",
              "    <path d=\"M18.56 5.44l.94 2.06.94-2.06 2.06-.94-2.06-.94-.94-2.06-.94 2.06-2.06.94zm-11 1L8.5 8.5l.94-2.06 2.06-.94-2.06-.94L8.5 2.5l-.94 2.06-2.06.94zm10 10l.94 2.06.94-2.06 2.06-.94-2.06-.94-.94-2.06-.94 2.06-2.06.94z\"/><path d=\"M17.41 7.96l-1.37-1.37c-.4-.4-.92-.59-1.43-.59-.52 0-1.04.2-1.43.59L10.3 9.45l-7.72 7.72c-.78.78-.78 2.05 0 2.83L4 21.41c.39.39.9.59 1.41.59.51 0 1.02-.2 1.41-.59l7.78-7.78 2.81-2.81c.8-.78.8-2.07 0-2.86zM5.41 20L4 18.59l7.72-7.72 1.47 1.35L5.41 20z\"/>\n",
              "  </svg>\n",
              "      </button>\n",
              "      \n",
              "  <style>\n",
              "    .colab-df-container {\n",
              "      display:flex;\n",
              "      flex-wrap:wrap;\n",
              "      gap: 12px;\n",
              "    }\n",
              "\n",
              "    .colab-df-convert {\n",
              "      background-color: #E8F0FE;\n",
              "      border: none;\n",
              "      border-radius: 50%;\n",
              "      cursor: pointer;\n",
              "      display: none;\n",
              "      fill: #1967D2;\n",
              "      height: 32px;\n",
              "      padding: 0 0 0 0;\n",
              "      width: 32px;\n",
              "    }\n",
              "\n",
              "    .colab-df-convert:hover {\n",
              "      background-color: #E2EBFA;\n",
              "      box-shadow: 0px 1px 2px rgba(60, 64, 67, 0.3), 0px 1px 3px 1px rgba(60, 64, 67, 0.15);\n",
              "      fill: #174EA6;\n",
              "    }\n",
              "\n",
              "    [theme=dark] .colab-df-convert {\n",
              "      background-color: #3B4455;\n",
              "      fill: #D2E3FC;\n",
              "    }\n",
              "\n",
              "    [theme=dark] .colab-df-convert:hover {\n",
              "      background-color: #434B5C;\n",
              "      box-shadow: 0px 1px 3px 1px rgba(0, 0, 0, 0.15);\n",
              "      filter: drop-shadow(0px 1px 2px rgba(0, 0, 0, 0.3));\n",
              "      fill: #FFFFFF;\n",
              "    }\n",
              "  </style>\n",
              "\n",
              "      <script>\n",
              "        const buttonEl =\n",
              "          document.querySelector('#df-2c5ff8af-3fa0-49e9-aa0a-9d60bacfd5c0 button.colab-df-convert');\n",
              "        buttonEl.style.display =\n",
              "          google.colab.kernel.accessAllowed ? 'block' : 'none';\n",
              "\n",
              "        async function convertToInteractive(key) {\n",
              "          const element = document.querySelector('#df-2c5ff8af-3fa0-49e9-aa0a-9d60bacfd5c0');\n",
              "          const dataTable =\n",
              "            await google.colab.kernel.invokeFunction('convertToInteractive',\n",
              "                                                     [key], {});\n",
              "          if (!dataTable) return;\n",
              "\n",
              "          const docLinkHtml = 'Like what you see? Visit the ' +\n",
              "            '<a target=\"_blank\" href=https://colab.research.google.com/notebooks/data_table.ipynb>data table notebook</a>'\n",
              "            + ' to learn more about interactive tables.';\n",
              "          element.innerHTML = '';\n",
              "          dataTable['output_type'] = 'display_data';\n",
              "          await google.colab.output.renderOutput(dataTable, element);\n",
              "          const docLink = document.createElement('div');\n",
              "          docLink.innerHTML = docLinkHtml;\n",
              "          element.appendChild(docLink);\n",
              "        }\n",
              "      </script>\n",
              "    </div>\n",
              "  </div>\n",
              "  "
            ]
          },
          "metadata": {},
          "execution_count": 3
        }
      ]
    },
    {
      "cell_type": "markdown",
      "source": [
        "This is a derived data from big data where all the column values are same however it has been reduced in dimension by taking average yearly values for their big counterparts"
      ],
      "metadata": {
        "id": "h6sRq-3mhXTJ"
      }
    },
    {
      "cell_type": "code",
      "source": [
        "#necessary data lies in this field \n",
        "small = small.head(11)"
      ],
      "metadata": {
        "id": "EQNhz8ghXT0a"
      },
      "execution_count": null,
      "outputs": []
    },
    {
      "cell_type": "code",
      "source": [
        "small.shape"
      ],
      "metadata": {
        "colab": {
          "base_uri": "https://localhost:8080/"
        },
        "id": "5wQuyrHFecXk",
        "outputId": "8fd18e68-60f4-4f3e-8dd3-3b1a0ab14175"
      },
      "execution_count": null,
      "outputs": [
        {
          "output_type": "execute_result",
          "data": {
            "text/plain": [
              "(11, 12)"
            ]
          },
          "metadata": {},
          "execution_count": 5
        }
      ]
    },
    {
      "cell_type": "code",
      "source": [
        "import math\n",
        "import numpy as np\n",
        "from scipy.stats import lognorm\n",
        "import matplotlib.pyplot as plt"
      ],
      "metadata": {
        "id": "a1P_yxstXXhw"
      },
      "execution_count": null,
      "outputs": []
    },
    {
      "cell_type": "code",
      "source": [
        "plt.rcParams[\"figure.figsize\"] = [10.00, 10.00]\n",
        "plt.rcParams[\"figure.autolayout\"] = True\n",
        "plt.subplot(4,2,1)\n",
        "plt.bar(big.iloc[:,0], big.iloc[:,3], color =['#0DAD0F'])\n",
        "plt.title(\"Closing Plot Day_changes\")\n",
        "plt.xlabel('Days ')\n",
        "plt.ylabel('Closing_Val')\n",
        "plt.subplot(4,2,2)\n",
        "plt.bar(small.iloc[:,0], small.iloc[:,3], color=['#0DAD0F'])\n",
        "plt.title(\"Closing Plot Year_changes\")\n",
        "plt.xlabel('Years')\n",
        "plt.ylabel('Closing_val')\n",
        "plt.subplot(4,2,3)\n",
        "plt.bar(big.iloc[:,0], big.loc[:,'Market Capitalisation'], color =['#17B2B0'])\n",
        "plt.title(\"MarketCap Day_changes\")\n",
        "plt.xlabel('Days')\n",
        "plt.ylabel('MarketCap')\n",
        "plt.subplot(4,2,4)\n",
        "plt.bar(small.iloc[:,0], small.loc[:,'Market Capitalisation'], color=['#17B2B0'])\n",
        "plt.title(\"Marketcap Year_changes\")\n",
        "plt.xlabel('Years')\n",
        "plt.ylabel('MarketCap')\n",
        "plt.subplot(4,2,5)\n",
        "plt.bar(big.iloc[:,0], big.loc[:,'Shares traded'], color =['#5E17B2'])\n",
        "plt.title(\"Marketcap Day_changes\")\n",
        "plt.xlabel('Days')\n",
        "plt.ylabel('shares traded')\n",
        "plt.subplot(4,2,6)\n",
        "plt.bar(small.iloc[:,0], small.loc[:,'Shares traded'], color=['#5E17B2'])\n",
        "plt.title(\"Marketcap Year_changes\")\n",
        "plt.xlabel('Years')\n",
        "plt.ylabel('shares traded')\n",
        "plt.subplot(4,2,7)\n",
        "plt.bar(big.iloc[:,0], big.loc[:,'Number of Transactions '], color =['#AF1538'])\n",
        "plt.title(\"Volumes\")\n",
        "plt.xlabel('Days')\n",
        "plt.ylabel('Volumes')\n",
        "plt.subplot(4,2,8)\n",
        "plt.bar(small.iloc[:,0], small.loc[:,'Number of Transactions '], color=['#AF1538'])\n",
        "plt.title(\"Volumes\")\n",
        "plt.xlabel('Years')\n",
        "plt.ylabel('Volumes')"
      ],
      "metadata": {
        "colab": {
          "base_uri": "https://localhost:8080/",
          "height": 746
        },
        "id": "Fhl3sTv_XXlk",
        "outputId": "9de67c46-a56e-4c7b-fc34-5f3dfab87300"
      },
      "execution_count": null,
      "outputs": [
        {
          "output_type": "execute_result",
          "data": {
            "text/plain": [
              "Text(0, 0.5, 'Volumes')"
            ]
          },
          "metadata": {},
          "execution_count": 7
        },
        {
          "output_type": "display_data",
          "data": {
            "text/plain": [
              "<Figure size 720x720 with 8 Axes>"
            ],
            "image/png": "[encoded data removed]"
          },
          "metadata": {
            "needs_background": "light"
          }
        }
      ]
    },
    {
      "cell_type": "markdown",
      "source": [
        "Here few plots were created from big table data and small table data in order to ensure whter they belong to identical statistical distribution. It can be inferred that While closing and market cap were nearly similar to that of their respective small table plot, the transaction Volumes and market cap changes did not follow the trend. "
      ],
      "metadata": {
        "id": "4QrrqWVSffYH"
      }
    },
    {
      "cell_type": "code",
      "source": [
        "#Removed dates for measuring central tendency of data \n",
        "big_new = big.iloc[:,1:]\n",
        "small_new = small.iloc[:,1:]"
      ],
      "metadata": {
        "id": "5GHe85orkvwY"
      },
      "execution_count": null,
      "outputs": []
    },
    {
      "cell_type": "code",
      "source": [
        "names = big_new.columns\n",
        "names"
      ],
      "metadata": {
        "colab": {
          "base_uri": "https://localhost:8080/"
        },
        "id": "Kg8LQ24kgHEK",
        "outputId": "0f4636fd-58c5-44f1-d311-3432488d2090"
      },
      "execution_count": null,
      "outputs": [
        {
          "output_type": "execute_result",
          "data": {
            "text/plain": [
              "Index(['Opening Price ', 'High Price ', 'Low Price ', 'Closing Price ',\n",
              "       'Shares Outstanding ', 'Market Capitalisation', 'EPS ', 'P/E ', 'P/B ',\n",
              "       'Shares traded', 'Number of Transactions '],\n",
              "      dtype='object')"
            ]
          },
          "metadata": {},
          "execution_count": 9
        }
      ]
    },
    {
      "cell_type": "code",
      "source": [
        "#mean comparison \n",
        "Mean_big= []\n",
        "Mean_small=[]\n",
        "Mean_loss=[]\n",
        "namesp=[]\n",
        "for i in range(10):\n",
        "  mean_1 = int(np.mean(big_new.iloc[:,i]))\n",
        "  mean_2 = int(np.mean(small_new.iloc[:,i]))\n",
        "  Mean_big.append(mean_1)\n",
        "  Mean_small.append(mean_2)\n",
        "  diff_percentage = int(((mean_2-mean_1)/mean_1)*100)\n",
        "  Mean_loss.append(diff_percentage)\n",
        "  namesp.append(names[i])\n",
        "\n",
        "mean_table = pd.DataFrame(np.column_stack([namesp,Mean_big,Mean_small,Mean_loss]),columns=['Parameter','Mean_big','Mean_small','Mean_loss%'] )\n",
        "mean_table\n",
        "  # print(\"Daywise mean for 11 years of\",names[i],':', mean_1)\n",
        "  # print('Yearwise mean for 11 years of',names[i],':', mean_2)\n",
        "  # print('Difference of',names[i],':',diff_percentage,'%')\n",
        "\n",
        "\n",
        "\n"
      ],
      "metadata": {
        "colab": {
          "base_uri": "https://localhost:8080/",
          "height": 363
        },
        "id": "mppGJiEEec26",
        "outputId": "06650208-0bda-4eb8-c791-422fa221df2f"
      },
      "execution_count": null,
      "outputs": [
        {
          "output_type": "execute_result",
          "data": {
            "text/plain": [
              "               Parameter    Mean_big  Mean_small Mean_loss%\n",
              "0         Opening Price         1256        1263          0\n",
              "1            High Price         1267        1249         -1\n",
              "2             Low Price         1244        1251          0\n",
              "3         Closing Price         1256        1263          0\n",
              "4    Shares Outstanding   3339213964  3406332991          2\n",
              "5  Market Capitalisation     4310031     4426148          2\n",
              "6                   EPS           45          46          2\n",
              "7                   P/E           27          26         -3\n",
              "8                   P/B            4           4          0\n",
              "9          Shares traded     4425903     4544776          2"
            ],
            "text/html": [
              "\n",
              "  <div id=\"df-3edc0748-950c-45ba-9b6d-735185904e68\">\n",
              "    <div class=\"colab-df-container\">\n",
              "      <div>\n",
              "<style scoped>\n",
              "    .dataframe tbody tr th:only-of-type {\n",
              "        vertical-align: middle;\n",
              "    }\n",
              "\n",
              "    .dataframe tbody tr th {\n",
              "        vertical-align: top;\n",
              "    }\n",
              "\n",
              "    .dataframe thead th {\n",
              "        text-align: right;\n",
              "    }\n",
              "</style>\n",
              "<table border=\"1\" class=\"dataframe\">\n",
              "  <thead>\n",
              "    <tr style=\"text-align: right;\">\n",
              "      <th></th>\n",
              "      <th>Parameter</th>\n",
              "      <th>Mean_big</th>\n",
              "      <th>Mean_small</th>\n",
              "      <th>Mean_loss%</th>\n",
              "    </tr>\n",
              "  </thead>\n",
              "  <tbody>\n",
              "    <tr>\n",
              "      <th>0</th>\n",
              "      <td>Opening Price</td>\n",
              "      <td>1256</td>\n",
              "      <td>1263</td>\n",
              "      <td>0</td>\n",
              "    </tr>\n",
              "    <tr>\n",
              "      <th>1</th>\n",
              "      <td>High Price</td>\n",
              "      <td>1267</td>\n",
              "      <td>1249</td>\n",
              "      <td>-1</td>\n",
              "    </tr>\n",
              "    <tr>\n",
              "      <th>2</th>\n",
              "      <td>Low Price</td>\n",
              "      <td>1244</td>\n",
              "      <td>1251</td>\n",
              "      <td>0</td>\n",
              "    </tr>\n",
              "    <tr>\n",
              "      <th>3</th>\n",
              "      <td>Closing Price</td>\n",
              "      <td>1256</td>\n",
              "      <td>1263</td>\n",
              "      <td>0</td>\n",
              "    </tr>\n",
              "    <tr>\n",
              "      <th>4</th>\n",
              "      <td>Shares Outstanding</td>\n",
              "      <td>3339213964</td>\n",
              "      <td>3406332991</td>\n",
              "      <td>2</td>\n",
              "    </tr>\n",
              "    <tr>\n",
              "      <th>5</th>\n",
              "      <td>Market Capitalisation</td>\n",
              "      <td>4310031</td>\n",
              "      <td>4426148</td>\n",
              "      <td>2</td>\n",
              "    </tr>\n",
              "    <tr>\n",
              "      <th>6</th>\n",
              "      <td>EPS</td>\n",
              "      <td>45</td>\n",
              "      <td>46</td>\n",
              "      <td>2</td>\n",
              "    </tr>\n",
              "    <tr>\n",
              "      <th>7</th>\n",
              "      <td>P/E</td>\n",
              "      <td>27</td>\n",
              "      <td>26</td>\n",
              "      <td>-3</td>\n",
              "    </tr>\n",
              "    <tr>\n",
              "      <th>8</th>\n",
              "      <td>P/B</td>\n",
              "      <td>4</td>\n",
              "      <td>4</td>\n",
              "      <td>0</td>\n",
              "    </tr>\n",
              "    <tr>\n",
              "      <th>9</th>\n",
              "      <td>Shares traded</td>\n",
              "      <td>4425903</td>\n",
              "      <td>4544776</td>\n",
              "      <td>2</td>\n",
              "    </tr>\n",
              "  </tbody>\n",
              "</table>\n",
              "</div>\n",
              "      <button class=\"colab-df-convert\" onclick=\"convertToInteractive('df-3edc0748-950c-45ba-9b6d-735185904e68')\"\n",
              "              title=\"Convert this dataframe to an interactive table.\"\n",
              "              style=\"display:none;\">\n",
              "        \n",
              "  <svg xmlns=\"http://www.w3.org/2000/svg\" height=\"24px\"viewBox=\"0 0 24 24\"\n",
              "       width=\"24px\">\n",
              "    <path d=\"M0 0h24v24H0V0z\" fill=\"none\"/>\n",
              "    <path d=\"M18.56 5.44l.94 2.06.94-2.06 2.06-.94-2.06-.94-.94-2.06-.94 2.06-2.06.94zm-11 1L8.5 8.5l.94-2.06 2.06-.94-2.06-.94L8.5 2.5l-.94 2.06-2.06.94zm10 10l.94 2.06.94-2.06 2.06-.94-2.06-.94-.94-2.06-.94 2.06-2.06.94z\"/><path d=\"M17.41 7.96l-1.37-1.37c-.4-.4-.92-.59-1.43-.59-.52 0-1.04.2-1.43.59L10.3 9.45l-7.72 7.72c-.78.78-.78 2.05 0 2.83L4 21.41c.39.39.9.59 1.41.59.51 0 1.02-.2 1.41-.59l7.78-7.78 2.81-2.81c.8-.78.8-2.07 0-2.86zM5.41 20L4 18.59l7.72-7.72 1.47 1.35L5.41 20z\"/>\n",
              "  </svg>\n",
              "      </button>\n",
              "      \n",
              "  <style>\n",
              "    .colab-df-container {\n",
              "      display:flex;\n",
              "      flex-wrap:wrap;\n",
              "      gap: 12px;\n",
              "    }\n",
              "\n",
              "    .colab-df-convert {\n",
              "      background-color: #E8F0FE;\n",
              "      border: none;\n",
              "      border-radius: 50%;\n",
              "      cursor: pointer;\n",
              "      display: none;\n",
              "      fill: #1967D2;\n",
              "      height: 32px;\n",
              "      padding: 0 0 0 0;\n",
              "      width: 32px;\n",
              "    }\n",
              "\n",
              "    .colab-df-convert:hover {\n",
              "      background-color: #E2EBFA;\n",
              "      box-shadow: 0px 1px 2px rgba(60, 64, 67, 0.3), 0px 1px 3px 1px rgba(60, 64, 67, 0.15);\n",
              "      fill: #174EA6;\n",
              "    }\n",
              "\n",
              "    [theme=dark] .colab-df-convert {\n",
              "      background-color: #3B4455;\n",
              "      fill: #D2E3FC;\n",
              "    }\n",
              "\n",
              "    [theme=dark] .colab-df-convert:hover {\n",
              "      background-color: #434B5C;\n",
              "      box-shadow: 0px 1px 3px 1px rgba(0, 0, 0, 0.15);\n",
              "      filter: drop-shadow(0px 1px 2px rgba(0, 0, 0, 0.3));\n",
              "      fill: #FFFFFF;\n",
              "    }\n",
              "  </style>\n",
              "\n",
              "      <script>\n",
              "        const buttonEl =\n",
              "          document.querySelector('#df-3edc0748-950c-45ba-9b6d-735185904e68 button.colab-df-convert');\n",
              "        buttonEl.style.display =\n",
              "          google.colab.kernel.accessAllowed ? 'block' : 'none';\n",
              "\n",
              "        async function convertToInteractive(key) {\n",
              "          const element = document.querySelector('#df-3edc0748-950c-45ba-9b6d-735185904e68');\n",
              "          const dataTable =\n",
              "            await google.colab.kernel.invokeFunction('convertToInteractive',\n",
              "                                                     [key], {});\n",
              "          if (!dataTable) return;\n",
              "\n",
              "          const docLinkHtml = 'Like what you see? Visit the ' +\n",
              "            '<a target=\"_blank\" href=https://colab.research.google.com/notebooks/data_table.ipynb>data table notebook</a>'\n",
              "            + ' to learn more about interactive tables.';\n",
              "          element.innerHTML = '';\n",
              "          dataTable['output_type'] = 'display_data';\n",
              "          await google.colab.output.renderOutput(dataTable, element);\n",
              "          const docLink = document.createElement('div');\n",
              "          docLink.innerHTML = docLinkHtml;\n",
              "          element.appendChild(docLink);\n",
              "        }\n",
              "      </script>\n",
              "    </div>\n",
              "  </div>\n",
              "  "
            ]
          },
          "metadata": {},
          "execution_count": 10
        }
      ]
    },
    {
      "cell_type": "markdown",
      "source": [
        "It can be concluded that there is no major shift in mean of the two datasets, however it is essential to note that small datset was derived contains the mean value of orignal datsets. "
      ],
      "metadata": {
        "id": "HDlxuUQ7h33J"
      }
    },
    {
      "cell_type": "code",
      "source": [
        "# median comparison \n",
        "Median_big= []\n",
        "Median_small=[]\n",
        "Median_loss=[]\n",
        "namesp=[]\n",
        "for i in range(10):\n",
        "  median_1 = int(np.median(big_new.iloc[:,i]))\n",
        "  median_2 = int(np.median(small_new.iloc[:,i]))\n",
        "  Median_big.append(median_1)\n",
        "  Median_small.append(median_2)\n",
        "  diff_percentage = int(((median_2-median_1)/median_1)*100)\n",
        "  Median_loss.append(diff_percentage)\n",
        "  namesp.append(names[i])\n",
        "\n",
        "median_table = pd.DataFrame(np.column_stack([namesp,Median_big,Median_small,Median_loss]),columns=['Parameter','Median_big','Median_small','Median_loss%'] )\n",
        "median_table\n",
        "  # print(\"Daywise mean for 11 years of\",names[i],':', median_1)\n",
        "  # print('Yearwise mean for 11 years of',names[i],':', median_2)\n",
        "  # print('Difference of',names[i],':',diff_percentage,'%')"
      ],
      "metadata": {
        "colab": {
          "base_uri": "https://localhost:8080/",
          "height": 363
        },
        "id": "sVbjCZYqn3LE",
        "outputId": "804ca673-0555-476f-d0a2-6d97322e2997"
      },
      "execution_count": null,
      "outputs": [
        {
          "output_type": "execute_result",
          "data": {
            "text/plain": [
              "               Parameter  Median_big Median_small Median_loss%\n",
              "0         Opening Price         1201         1159           -3\n",
              "1            High Price         1211         1155           -4\n",
              "2             Low Price         1190         1150           -3\n",
              "3         Closing Price         1199         1159           -3\n",
              "4    Shares Outstanding   2564909117   2572176663            0\n",
              "5  Market Capitalisation     3938910      4183152            6\n",
              "6                   EPS           47           48            2\n",
              "7                   P/E           27           27            0\n",
              "8                   P/B            4            4            0\n",
              "9          Shares traded     2482053      2631689            6"
            ],
            "text/html": [
              "\n",
              "  <div id=\"df-f91629c7-d3f3-495d-b402-d86944f46c2f\">\n",
              "    <div class=\"colab-df-container\">\n",
              "      <div>\n",
              "<style scoped>\n",
              "    .dataframe tbody tr th:only-of-type {\n",
              "        vertical-align: middle;\n",
              "    }\n",
              "\n",
              "    .dataframe tbody tr th {\n",
              "        vertical-align: top;\n",
              "    }\n",
              "\n",
              "    .dataframe thead th {\n",
              "        text-align: right;\n",
              "    }\n",
              "</style>\n",
              "<table border=\"1\" class=\"dataframe\">\n",
              "  <thead>\n",
              "    <tr style=\"text-align: right;\">\n",
              "      <th></th>\n",
              "      <th>Parameter</th>\n",
              "      <th>Median_big</th>\n",
              "      <th>Median_small</th>\n",
              "      <th>Median_loss%</th>\n",
              "    </tr>\n",
              "  </thead>\n",
              "  <tbody>\n",
              "    <tr>\n",
              "      <th>0</th>\n",
              "      <td>Opening Price</td>\n",
              "      <td>1201</td>\n",
              "      <td>1159</td>\n",
              "      <td>-3</td>\n",
              "    </tr>\n",
              "    <tr>\n",
              "      <th>1</th>\n",
              "      <td>High Price</td>\n",
              "      <td>1211</td>\n",
              "      <td>1155</td>\n",
              "      <td>-4</td>\n",
              "    </tr>\n",
              "    <tr>\n",
              "      <th>2</th>\n",
              "      <td>Low Price</td>\n",
              "      <td>1190</td>\n",
              "      <td>1150</td>\n",
              "      <td>-3</td>\n",
              "    </tr>\n",
              "    <tr>\n",
              "      <th>3</th>\n",
              "      <td>Closing Price</td>\n",
              "      <td>1199</td>\n",
              "      <td>1159</td>\n",
              "      <td>-3</td>\n",
              "    </tr>\n",
              "    <tr>\n",
              "      <th>4</th>\n",
              "      <td>Shares Outstanding</td>\n",
              "      <td>2564909117</td>\n",
              "      <td>2572176663</td>\n",
              "      <td>0</td>\n",
              "    </tr>\n",
              "    <tr>\n",
              "      <th>5</th>\n",
              "      <td>Market Capitalisation</td>\n",
              "      <td>3938910</td>\n",
              "      <td>4183152</td>\n",
              "      <td>6</td>\n",
              "    </tr>\n",
              "    <tr>\n",
              "      <th>6</th>\n",
              "      <td>EPS</td>\n",
              "      <td>47</td>\n",
              "      <td>48</td>\n",
              "      <td>2</td>\n",
              "    </tr>\n",
              "    <tr>\n",
              "      <th>7</th>\n",
              "      <td>P/E</td>\n",
              "      <td>27</td>\n",
              "      <td>27</td>\n",
              "      <td>0</td>\n",
              "    </tr>\n",
              "    <tr>\n",
              "      <th>8</th>\n",
              "      <td>P/B</td>\n",
              "      <td>4</td>\n",
              "      <td>4</td>\n",
              "      <td>0</td>\n",
              "    </tr>\n",
              "    <tr>\n",
              "      <th>9</th>\n",
              "      <td>Shares traded</td>\n",
              "      <td>2482053</td>\n",
              "      <td>2631689</td>\n",
              "      <td>6</td>\n",
              "    </tr>\n",
              "  </tbody>\n",
              "</table>\n",
              "</div>\n",
              "      <button class=\"colab-df-convert\" onclick=\"convertToInteractive('df-f91629c7-d3f3-495d-b402-d86944f46c2f')\"\n",
              "              title=\"Convert this dataframe to an interactive table.\"\n",
              "              style=\"display:none;\">\n",
              "        \n",
              "  <svg xmlns=\"http://www.w3.org/2000/svg\" height=\"24px\"viewBox=\"0 0 24 24\"\n",
              "       width=\"24px\">\n",
              "    <path d=\"M0 0h24v24H0V0z\" fill=\"none\"/>\n",
              "    <path d=\"M18.56 5.44l.94 2.06.94-2.06 2.06-.94-2.06-.94-.94-2.06-.94 2.06-2.06.94zm-11 1L8.5 8.5l.94-2.06 2.06-.94-2.06-.94L8.5 2.5l-.94 2.06-2.06.94zm10 10l.94 2.06.94-2.06 2.06-.94-2.06-.94-.94-2.06-.94 2.06-2.06.94z\"/><path d=\"M17.41 7.96l-1.37-1.37c-.4-.4-.92-.59-1.43-.59-.52 0-1.04.2-1.43.59L10.3 9.45l-7.72 7.72c-.78.78-.78 2.05 0 2.83L4 21.41c.39.39.9.59 1.41.59.51 0 1.02-.2 1.41-.59l7.78-7.78 2.81-2.81c.8-.78.8-2.07 0-2.86zM5.41 20L4 18.59l7.72-7.72 1.47 1.35L5.41 20z\"/>\n",
              "  </svg>\n",
              "      </button>\n",
              "      \n",
              "  <style>\n",
              "    .colab-df-container {\n",
              "      display:flex;\n",
              "      flex-wrap:wrap;\n",
              "      gap: 12px;\n",
              "    }\n",
              "\n",
              "    .colab-df-convert {\n",
              "      background-color: #E8F0FE;\n",
              "      border: none;\n",
              "      border-radius: 50%;\n",
              "      cursor: pointer;\n",
              "      display: none;\n",
              "      fill: #1967D2;\n",
              "      height: 32px;\n",
              "      padding: 0 0 0 0;\n",
              "      width: 32px;\n",
              "    }\n",
              "\n",
              "    .colab-df-convert:hover {\n",
              "      background-color: #E2EBFA;\n",
              "      box-shadow: 0px 1px 2px rgba(60, 64, 67, 0.3), 0px 1px 3px 1px rgba(60, 64, 67, 0.15);\n",
              "      fill: #174EA6;\n",
              "    }\n",
              "\n",
              "    [theme=dark] .colab-df-convert {\n",
              "      background-color: #3B4455;\n",
              "      fill: #D2E3FC;\n",
              "    }\n",
              "\n",
              "    [theme=dark] .colab-df-convert:hover {\n",
              "      background-color: #434B5C;\n",
              "      box-shadow: 0px 1px 3px 1px rgba(0, 0, 0, 0.15);\n",
              "      filter: drop-shadow(0px 1px 2px rgba(0, 0, 0, 0.3));\n",
              "      fill: #FFFFFF;\n",
              "    }\n",
              "  </style>\n",
              "\n",
              "      <script>\n",
              "        const buttonEl =\n",
              "          document.querySelector('#df-f91629c7-d3f3-495d-b402-d86944f46c2f button.colab-df-convert');\n",
              "        buttonEl.style.display =\n",
              "          google.colab.kernel.accessAllowed ? 'block' : 'none';\n",
              "\n",
              "        async function convertToInteractive(key) {\n",
              "          const element = document.querySelector('#df-f91629c7-d3f3-495d-b402-d86944f46c2f');\n",
              "          const dataTable =\n",
              "            await google.colab.kernel.invokeFunction('convertToInteractive',\n",
              "                                                     [key], {});\n",
              "          if (!dataTable) return;\n",
              "\n",
              "          const docLinkHtml = 'Like what you see? Visit the ' +\n",
              "            '<a target=\"_blank\" href=https://colab.research.google.com/notebooks/data_table.ipynb>data table notebook</a>'\n",
              "            + ' to learn more about interactive tables.';\n",
              "          element.innerHTML = '';\n",
              "          dataTable['output_type'] = 'display_data';\n",
              "          await google.colab.output.renderOutput(dataTable, element);\n",
              "          const docLink = document.createElement('div');\n",
              "          docLink.innerHTML = docLinkHtml;\n",
              "          element.appendChild(docLink);\n",
              "        }\n",
              "      </script>\n",
              "    </div>\n",
              "  </div>\n",
              "  "
            ]
          },
          "metadata": {},
          "execution_count": 11
        }
      ]
    },
    {
      "cell_type": "markdown",
      "source": [
        "Median values have shifted significantly for Market Cap and Shares traded. "
      ],
      "metadata": {
        "id": "27inaf_CjLiz"
      }
    },
    {
      "cell_type": "code",
      "source": [
        "# Range comparison \n",
        "Big_max= []\n",
        "Big_min=[]\n",
        "Small_max=[]\n",
        "Small_min=[]\n",
        "namesp=[]\n",
        "for i in range (10):\n",
        "  big_max= np.max(big_new.iloc[:,i])\n",
        "  big_min = np.min(big_new.iloc[:,i])\n",
        "  small_max=np.max(small_new.iloc[:,i])\n",
        "  small_min=np.min(small_new.iloc[:,i])\n",
        "  Small_max.append(small_max)\n",
        "  Small_min.append(small_min)\n",
        "  Big_max.append(big_max)\n",
        "  Big_min.append(big_min)\n",
        "  namesp.append(names[i])\n",
        "Range_table= pd.DataFrame(np.column_stack([namesp,Big_max,Small_max,Big_min,Small_min]),columns=['Parameters','Big_max','Small_max','Big_min','Small_min'] )\n",
        "Range_table"
      ],
      "metadata": {
        "colab": {
          "base_uri": "https://localhost:8080/",
          "height": 363
        },
        "id": "js5fgjfGn3OO",
        "outputId": "1f6f514c-b9dc-4fe5-f773-81ce780e2287"
      },
      "execution_count": null,
      "outputs": [
        {
          "output_type": "execute_result",
          "data": {
            "text/plain": [
              "              Parameters       Big_max     Small_max       Big_min  \\\n",
              "0         Opening Price         2499.0   2001.009146         428.9   \n",
              "1            High Price         2503.3   2016.597154         429.8   \n",
              "2             Low Price         2483.0   1985.956911         419.5   \n",
              "3         Closing Price         2495.0   2001.619106        426.85   \n",
              "4    Shares Outstanding   5562061276.0  5549343035.0  2341315020.0   \n",
              "5  Market Capitalisation    9351095.01   8354373.205     999390.32   \n",
              "6                   EPS          75.31   63.49390244         19.07   \n",
              "7                   P/E          34.38   31.52727642         17.01   \n",
              "8                   P/B           5.41   4.797073171          2.58   \n",
              "9          Shares traded   100564990.0   14209753.65       46322.0   \n",
              "\n",
              "      Small_min  \n",
              "0   567.6629482  \n",
              "1   573.4221116  \n",
              "2   561.4241036  \n",
              "3   568.2143426  \n",
              "4  2353517479.0  \n",
              "5   1337800.288  \n",
              "6   20.52689243  \n",
              "7   23.26900621  \n",
              "8   3.388074534  \n",
              "9   1386502.105  "
            ],
            "text/html": [
              "\n",
              "  <div id=\"df-81358285-8c3b-45a5-b99a-60e131191b4a\">\n",
              "    <div class=\"colab-df-container\">\n",
              "      <div>\n",
              "<style scoped>\n",
              "    .dataframe tbody tr th:only-of-type {\n",
              "        vertical-align: middle;\n",
              "    }\n",
              "\n",
              "    .dataframe tbody tr th {\n",
              "        vertical-align: top;\n",
              "    }\n",
              "\n",
              "    .dataframe thead th {\n",
              "        text-align: right;\n",
              "    }\n",
              "</style>\n",
              "<table border=\"1\" class=\"dataframe\">\n",
              "  <thead>\n",
              "    <tr style=\"text-align: right;\">\n",
              "      <th></th>\n",
              "      <th>Parameters</th>\n",
              "      <th>Big_max</th>\n",
              "      <th>Small_max</th>\n",
              "      <th>Big_min</th>\n",
              "      <th>Small_min</th>\n",
              "    </tr>\n",
              "  </thead>\n",
              "  <tbody>\n",
              "    <tr>\n",
              "      <th>0</th>\n",
              "      <td>Opening Price</td>\n",
              "      <td>2499.0</td>\n",
              "      <td>2001.009146</td>\n",
              "      <td>428.9</td>\n",
              "      <td>567.6629482</td>\n",
              "    </tr>\n",
              "    <tr>\n",
              "      <th>1</th>\n",
              "      <td>High Price</td>\n",
              "      <td>2503.3</td>\n",
              "      <td>2016.597154</td>\n",
              "      <td>429.8</td>\n",
              "      <td>573.4221116</td>\n",
              "    </tr>\n",
              "    <tr>\n",
              "      <th>2</th>\n",
              "      <td>Low Price</td>\n",
              "      <td>2483.0</td>\n",
              "      <td>1985.956911</td>\n",
              "      <td>419.5</td>\n",
              "      <td>561.4241036</td>\n",
              "    </tr>\n",
              "    <tr>\n",
              "      <th>3</th>\n",
              "      <td>Closing Price</td>\n",
              "      <td>2495.0</td>\n",
              "      <td>2001.619106</td>\n",
              "      <td>426.85</td>\n",
              "      <td>568.2143426</td>\n",
              "    </tr>\n",
              "    <tr>\n",
              "      <th>4</th>\n",
              "      <td>Shares Outstanding</td>\n",
              "      <td>5562061276.0</td>\n",
              "      <td>5549343035.0</td>\n",
              "      <td>2341315020.0</td>\n",
              "      <td>2353517479.0</td>\n",
              "    </tr>\n",
              "    <tr>\n",
              "      <th>5</th>\n",
              "      <td>Market Capitalisation</td>\n",
              "      <td>9351095.01</td>\n",
              "      <td>8354373.205</td>\n",
              "      <td>999390.32</td>\n",
              "      <td>1337800.288</td>\n",
              "    </tr>\n",
              "    <tr>\n",
              "      <th>6</th>\n",
              "      <td>EPS</td>\n",
              "      <td>75.31</td>\n",
              "      <td>63.49390244</td>\n",
              "      <td>19.07</td>\n",
              "      <td>20.52689243</td>\n",
              "    </tr>\n",
              "    <tr>\n",
              "      <th>7</th>\n",
              "      <td>P/E</td>\n",
              "      <td>34.38</td>\n",
              "      <td>31.52727642</td>\n",
              "      <td>17.01</td>\n",
              "      <td>23.26900621</td>\n",
              "    </tr>\n",
              "    <tr>\n",
              "      <th>8</th>\n",
              "      <td>P/B</td>\n",
              "      <td>5.41</td>\n",
              "      <td>4.797073171</td>\n",
              "      <td>2.58</td>\n",
              "      <td>3.388074534</td>\n",
              "    </tr>\n",
              "    <tr>\n",
              "      <th>9</th>\n",
              "      <td>Shares traded</td>\n",
              "      <td>100564990.0</td>\n",
              "      <td>14209753.65</td>\n",
              "      <td>46322.0</td>\n",
              "      <td>1386502.105</td>\n",
              "    </tr>\n",
              "  </tbody>\n",
              "</table>\n",
              "</div>\n",
              "      <button class=\"colab-df-convert\" onclick=\"convertToInteractive('df-81358285-8c3b-45a5-b99a-60e131191b4a')\"\n",
              "              title=\"Convert this dataframe to an interactive table.\"\n",
              "              style=\"display:none;\">\n",
              "        \n",
              "  <svg xmlns=\"http://www.w3.org/2000/svg\" height=\"24px\"viewBox=\"0 0 24 24\"\n",
              "       width=\"24px\">\n",
              "    <path d=\"M0 0h24v24H0V0z\" fill=\"none\"/>\n",
              "    <path d=\"M18.56 5.44l.94 2.06.94-2.06 2.06-.94-2.06-.94-.94-2.06-.94 2.06-2.06.94zm-11 1L8.5 8.5l.94-2.06 2.06-.94-2.06-.94L8.5 2.5l-.94 2.06-2.06.94zm10 10l.94 2.06.94-2.06 2.06-.94-2.06-.94-.94-2.06-.94 2.06-2.06.94z\"/><path d=\"M17.41 7.96l-1.37-1.37c-.4-.4-.92-.59-1.43-.59-.52 0-1.04.2-1.43.59L10.3 9.45l-7.72 7.72c-.78.78-.78 2.05 0 2.83L4 21.41c.39.39.9.59 1.41.59.51 0 1.02-.2 1.41-.59l7.78-7.78 2.81-2.81c.8-.78.8-2.07 0-2.86zM5.41 20L4 18.59l7.72-7.72 1.47 1.35L5.41 20z\"/>\n",
              "  </svg>\n",
              "      </button>\n",
              "      \n",
              "  <style>\n",
              "    .colab-df-container {\n",
              "      display:flex;\n",
              "      flex-wrap:wrap;\n",
              "      gap: 12px;\n",
              "    }\n",
              "\n",
              "    .colab-df-convert {\n",
              "      background-color: #E8F0FE;\n",
              "      border: none;\n",
              "      border-radius: 50%;\n",
              "      cursor: pointer;\n",
              "      display: none;\n",
              "      fill: #1967D2;\n",
              "      height: 32px;\n",
              "      padding: 0 0 0 0;\n",
              "      width: 32px;\n",
              "    }\n",
              "\n",
              "    .colab-df-convert:hover {\n",
              "      background-color: #E2EBFA;\n",
              "      box-shadow: 0px 1px 2px rgba(60, 64, 67, 0.3), 0px 1px 3px 1px rgba(60, 64, 67, 0.15);\n",
              "      fill: #174EA6;\n",
              "    }\n",
              "\n",
              "    [theme=dark] .colab-df-convert {\n",
              "      background-color: #3B4455;\n",
              "      fill: #D2E3FC;\n",
              "    }\n",
              "\n",
              "    [theme=dark] .colab-df-convert:hover {\n",
              "      background-color: #434B5C;\n",
              "      box-shadow: 0px 1px 3px 1px rgba(0, 0, 0, 0.15);\n",
              "      filter: drop-shadow(0px 1px 2px rgba(0, 0, 0, 0.3));\n",
              "      fill: #FFFFFF;\n",
              "    }\n",
              "  </style>\n",
              "\n",
              "      <script>\n",
              "        const buttonEl =\n",
              "          document.querySelector('#df-81358285-8c3b-45a5-b99a-60e131191b4a button.colab-df-convert');\n",
              "        buttonEl.style.display =\n",
              "          google.colab.kernel.accessAllowed ? 'block' : 'none';\n",
              "\n",
              "        async function convertToInteractive(key) {\n",
              "          const element = document.querySelector('#df-81358285-8c3b-45a5-b99a-60e131191b4a');\n",
              "          const dataTable =\n",
              "            await google.colab.kernel.invokeFunction('convertToInteractive',\n",
              "                                                     [key], {});\n",
              "          if (!dataTable) return;\n",
              "\n",
              "          const docLinkHtml = 'Like what you see? Visit the ' +\n",
              "            '<a target=\"_blank\" href=https://colab.research.google.com/notebooks/data_table.ipynb>data table notebook</a>'\n",
              "            + ' to learn more about interactive tables.';\n",
              "          element.innerHTML = '';\n",
              "          dataTable['output_type'] = 'display_data';\n",
              "          await google.colab.output.renderOutput(dataTable, element);\n",
              "          const docLink = document.createElement('div');\n",
              "          docLink.innerHTML = docLinkHtml;\n",
              "          element.appendChild(docLink);\n",
              "        }\n",
              "      </script>\n",
              "    </div>\n",
              "  </div>\n",
              "  "
            ]
          },
          "metadata": {},
          "execution_count": 12
        }
      ]
    },
    {
      "cell_type": "markdown",
      "source": [
        "From the table it can be concluded that range is mostly compromised, thus if the data is to be used in order to a detailed analysis as well as for training ML models big table is required however to study the macro of the company small table will make more sense. It can be concluded that Most of the features of big table are captured bu small table and they are statistically similar  "
      ],
      "metadata": {
        "id": "bonWL8V7jrv8"
      }
    },
    {
      "cell_type": "code",
      "source": [
        "#Normality Check using Shapiro test "
      ],
      "metadata": {
        "id": "9-tcd228q5f2"
      },
      "execution_count": null,
      "outputs": []
    },
    {
      "cell_type": "code",
      "source": [
        "# from scipy import stats\n",
        "# val_1=[]\n",
        "# val_2=[]\n",
        "# namesp=[]\n",
        "# norm=[]\n",
        "# non =[]\n",
        "# for i in range (10):\n",
        "#   val1 = stats.shapiro(big_new.iloc[:,i])\n",
        "#   val2 = stats.shapiro(small_new.iloc[:,i])\n",
        "#   val_1.append(val1)\n",
        "#   val_2.append(val_2)\n",
        "#   for j in val1:\n",
        "#     if pvalue>=0.05:\n",
        "#       norm.append(names[i])\n",
        "#     else:\n",
        "#       non.append(names[i])\n",
        "\n",
        "# here shapiro result cannot be accessed "
      ],
      "metadata": {
        "id": "THdRWvm8q_Yl"
      },
      "execution_count": null,
      "outputs": []
    },
    {
      "cell_type": "code",
      "source": [
        "from scipy import stats\n",
        "for i in range (10):\n",
        "  val1 = stats.shapiro(big_new.iloc[:,i])\n",
        "  print('Normality test results for big table for:',names[i],'is', val1)\n",
        "  val2 = stats.shapiro(small_new.iloc[:,i])\n",
        "  print('Normality test results for small table for:',names[i],'is',val2)"
      ],
      "metadata": {
        "colab": {
          "base_uri": "https://localhost:8080/"
        },
        "id": "WgPfD642q_cE",
        "outputId": "b1c0a232-522c-433c-9de7-988d9b6f6b42"
      },
      "execution_count": null,
      "outputs": [
        {
          "output_type": "stream",
          "name": "stdout",
          "text": [
            "Normality test results for big table for: Opening Price  is ShapiroResult(statistic=0.9566144943237305, pvalue=2.3383416493305187e-27)\n",
            "Normality test results for small table for: Opening Price  is ShapiroResult(statistic=0.949499785900116, pvalue=0.6375680565834045)\n",
            "Normality test results for big table for: High Price  is ShapiroResult(statistic=0.956667959690094, pvalue=2.4201805756433544e-27)\n",
            "Normality test results for small table for: High Price  is ShapiroResult(statistic=0.9336907863616943, pvalue=0.44938427209854126)\n",
            "Normality test results for big table for: Low Price  is ShapiroResult(statistic=0.9561870098114014, pvalue=1.7779865542212193e-27)\n",
            "Normality test results for small table for: Low Price  is ShapiroResult(statistic=0.949753999710083, pvalue=0.6408117413520813)\n",
            "Normality test results for big table for: Closing Price  is ShapiroResult(statistic=0.9563972353935242, pvalue=2.0339054733823563e-27)\n",
            "Normality test results for small table for: Closing Price  is ShapiroResult(statistic=0.9496796727180481, pvalue=0.6398627161979675)\n",
            "Normality test results for big table for: Shares Outstanding  is ShapiroResult(statistic=0.6256113052368164, pvalue=0.0)\n",
            "Normality test results for small table for: Shares Outstanding  is ShapiroResult(statistic=0.6962463855743408, pvalue=0.0004185911675449461)\n",
            "Normality test results for big table for: Market Capitalisation is ShapiroResult(statistic=0.9141421318054199, pvalue=2.7094920578699435e-36)\n",
            "Normality test results for small table for: Market Capitalisation is ShapiroResult(statistic=0.9195048809051514, pvalue=0.31453853845596313)\n",
            "Normality test results for big table for: EPS  is ShapiroResult(statistic=0.9674317240715027, pvalue=5.346944969520521e-24)\n",
            "Normality test results for small table for: EPS  is ShapiroResult(statistic=0.9232975244522095, pvalue=0.347068727016449)\n",
            "Normality test results for big table for: P/E  is ShapiroResult(statistic=0.987420916557312, pvalue=1.5876085914120174e-14)\n",
            "Normality test results for small table for: P/E  is ShapiroResult(statistic=0.9145215749740601, pvalue=0.27561521530151367)\n",
            "Normality test results for big table for: P/B  is ShapiroResult(statistic=0.9861325025558472, pvalue=2.2259661629675694e-15)\n",
            "Normality test results for small table for: P/B  is ShapiroResult(statistic=0.9524984359741211, pvalue=0.6760017275810242)\n",
            "Normality test results for big table for: Shares traded is ShapiroResult(statistic=0.6260035037994385, pvalue=0.0)\n",
            "Normality test results for small table for: Shares traded is ShapiroResult(statistic=0.7778152227401733, pvalue=0.004806470591574907)\n"
          ]
        }
      ]
    },
    {
      "cell_type": "markdown",
      "source": [
        "Note: this data is not suitable for checking normality test however it is shown to display the steps to test statistical significance. \n",
        "By studying shapiro test if p value is greater than 0.05 than the parameter is normally distributed.  Next 2 sample T-test can be used to check the statistical similarity on columns that are normally distributed.  "
      ],
      "metadata": {
        "id": "_izO6LL0xZwH"
      }
    },
    {
      "cell_type": "markdown",
      "source": [
        "# Question 2 "
      ],
      "metadata": {
        "id": "KoOlFHhIpOWG"
      }
    },
    {
      "cell_type": "code",
      "execution_count": null,
      "metadata": {
        "colab": {
          "base_uri": "https://localhost:8080/"
        },
        "id": "g_GU8vy6cJDq",
        "outputId": "b4a25fdf-20ca-4d54-aea2-1e8953a3533d"
      },
      "outputs": [
        {
          "output_type": "stream",
          "name": "stdout",
          "text": [
            "Cloning into 'yolov5'...\n",
            "remote: Enumerating objects: 14997, done.\u001b[K\n",
            "remote: Total 14997 (delta 0), reused 0 (delta 0), pack-reused 14997\u001b[K\n",
            "Receiving objects: 100% (14997/14997), 13.95 MiB | 17.42 MiB/s, done.\n",
            "Resolving deltas: 100% (10304/10304), done.\n"
          ]
        }
      ],
      "source": [
        "!git clone https://github.com/ultralytics/yolov5"
      ]
    },
    {
      "cell_type": "code",
      "source": [
        "%cd yolov5"
      ],
      "metadata": {
        "colab": {
          "base_uri": "https://localhost:8080/"
        },
        "id": "wzwYJ_3kcV15",
        "outputId": "ddc14590-ba2b-4804-cafb-d65fa545b677"
      },
      "execution_count": null,
      "outputs": [
        {
          "output_type": "stream",
          "name": "stdout",
          "text": [
            "/content/yolov5\n"
          ]
        }
      ]
    },
    {
      "cell_type": "code",
      "source": [
        "%pip install -qr requirements.txt"
      ],
      "metadata": {
        "id": "nzMwaytNce63",
        "colab": {
          "base_uri": "https://localhost:8080/"
        },
        "outputId": "b19dc150-06ea-43d5-8f8b-5e89f920d457"
      },
      "execution_count": null,
      "outputs": [
        {
          "output_type": "stream",
          "name": "stdout",
          "text": [
            "\u001b[2K     \u001b[90m━━━━━━━━━━━━━━━━━━━━━━━━━━━━━━━━━━━━━━━\u001b[0m \u001b[32m184.0/184.0 KB\u001b[0m \u001b[31m9.6 MB/s\u001b[0m eta \u001b[36m0:00:00\u001b[0m\n",
            "\u001b[2K     \u001b[90m━━━━━━━━━━━━━━━━━━━━━━━━━━━━━━━━━━━━━━━━\u001b[0m \u001b[32m62.7/62.7 KB\u001b[0m \u001b[31m7.9 MB/s\u001b[0m eta \u001b[36m0:00:00\u001b[0m\n",
            "\u001b[2K     \u001b[90m━━━━━━━━━━━━━━━━━━━━━━━━━━━━━━━━━━━━━━━━\u001b[0m \u001b[32m1.6/1.6 MB\u001b[0m \u001b[31m63.8 MB/s\u001b[0m eta \u001b[36m0:00:00\u001b[0m\n",
            "\u001b[?25h"
          ]
        }
      ]
    },
    {
      "cell_type": "code",
      "source": [
        "import torch\n",
        "import utils"
      ],
      "metadata": {
        "id": "yUBbtFIJchPU"
      },
      "execution_count": null,
      "outputs": []
    },
    {
      "cell_type": "code",
      "source": [
        "display = utils.notebook_init() "
      ],
      "metadata": {
        "colab": {
          "base_uri": "https://localhost:8080/"
        },
        "id": "w1RgTNYTcmfH",
        "outputId": "6f047856-66b9-4b81-ab53-c5b578637c25"
      },
      "execution_count": null,
      "outputs": [
        {
          "output_type": "stream",
          "name": "stderr",
          "text": [
            "YOLOv5 🚀 v7.0-69-g3b6e27a Python-3.8.16 torch-1.13.0+cu116 CUDA:0 (Tesla T4, 15110MiB)\n"
          ]
        },
        {
          "output_type": "stream",
          "name": "stdout",
          "text": [
            "Setup complete ✅ (2 CPUs, 12.7 GB RAM, 23.0/78.2 GB disk)\n"
          ]
        }
      ]
    },
    {
      "cell_type": "code",
      "source": [
        "\n",
        "import os\n",
        "os.makedirs(\"../Data_2/\", exist_ok=True)\n",
        "%cd ../Data_2/"
      ],
      "metadata": {
        "id": "kgA6lxYo66ai"
      },
      "execution_count": null,
      "outputs": []
    },
    {
      "cell_type": "code",
      "source": [
        "!pip install roboflow\n",
        "\n",
        "from roboflow import Roboflow\n",
        "rf = Roboflow(api_key=\"vADTgf0FSbIQG0RDE22y\")\n",
        "project = rf.workspace(\"scit\").project(\"dataset_sample_proj\")\n",
        "dataset = project.version(1).download(\"folder\")\n"
      ],
      "metadata": {
        "colab": {
          "base_uri": "https://localhost:8080/"
        },
        "id": "nn3QV6V5K8N5",
        "outputId": "9d5b21f2-6782-4ac2-f4e2-e439526a51ad"
      },
      "execution_count": null,
      "outputs": [
        {
          "output_type": "stream",
          "name": "stdout",
          "text": [
            "Looking in indexes: https://pypi.org/simple, https://us-python.pkg.dev/colab-wheels/public/simple/\n",
            "Requirement already satisfied: roboflow in /usr/local/lib/python3.8/dist-packages (0.2.25)\n",
            "Requirement already satisfied: certifi==2022.12.7 in /usr/local/lib/python3.8/dist-packages (from roboflow) (2022.12.7)\n",
            "Requirement already satisfied: chardet==4.0.0 in /usr/local/lib/python3.8/dist-packages (from roboflow) (4.0.0)\n",
            "Requirement already satisfied: pyparsing==2.4.7 in /usr/local/lib/python3.8/dist-packages (from roboflow) (2.4.7)\n",
            "Requirement already satisfied: numpy>=1.18.5 in /usr/local/lib/python3.8/dist-packages (from roboflow) (1.21.6)\n",
            "Requirement already satisfied: wget in /usr/local/lib/python3.8/dist-packages (from roboflow) (3.2)\n",
            "Requirement already satisfied: idna==2.10 in /usr/local/lib/python3.8/dist-packages (from roboflow) (2.10)\n",
            "Requirement already satisfied: opencv-python-headless>=4.5.1.48 in /usr/local/lib/python3.8/dist-packages (from roboflow) (4.7.0.68)\n",
            "Requirement already satisfied: requests-toolbelt in /usr/local/lib/python3.8/dist-packages (from roboflow) (0.10.1)\n",
            "Requirement already satisfied: matplotlib in /usr/local/lib/python3.8/dist-packages (from roboflow) (3.2.2)\n",
            "Requirement already satisfied: python-dateutil in /usr/local/lib/python3.8/dist-packages (from roboflow) (2.8.2)\n",
            "Requirement already satisfied: kiwisolver>=1.3.1 in /usr/local/lib/python3.8/dist-packages (from roboflow) (1.4.4)\n",
            "Requirement already satisfied: urllib3==1.26.6 in /usr/local/lib/python3.8/dist-packages (from roboflow) (1.26.6)\n",
            "Requirement already satisfied: six in /usr/local/lib/python3.8/dist-packages (from roboflow) (1.15.0)\n",
            "Requirement already satisfied: Pillow>=7.1.2 in /usr/local/lib/python3.8/dist-packages (from roboflow) (7.1.2)\n",
            "Requirement already satisfied: requests in /usr/local/lib/python3.8/dist-packages (from roboflow) (2.25.1)\n",
            "Requirement already satisfied: PyYAML>=5.3.1 in /usr/local/lib/python3.8/dist-packages (from roboflow) (6.0)\n",
            "Requirement already satisfied: tqdm>=4.41.0 in /usr/local/lib/python3.8/dist-packages (from roboflow) (4.64.1)\n",
            "Requirement already satisfied: glob2 in /usr/local/lib/python3.8/dist-packages (from roboflow) (0.7)\n",
            "Requirement already satisfied: cycler==0.10.0 in /usr/local/lib/python3.8/dist-packages (from roboflow) (0.10.0)\n",
            "Requirement already satisfied: python-dotenv in /usr/local/lib/python3.8/dist-packages (from roboflow) (0.21.0)\n",
            "loading Roboflow workspace...\n",
            "loading Roboflow project...\n",
            "Downloading Dataset Version Zip in Dataset_sample_proj-1 to folder: 100% [33918814 / 33918814] bytes\n"
          ]
        },
        {
          "output_type": "stream",
          "name": "stderr",
          "text": [
            "Extracting Dataset Version Zip to Dataset_sample_proj-1 in folder:: 100%|██████████| 345/345 [00:00<00:00, 460.09it/s]\n"
          ]
        }
      ]
    },
    {
      "cell_type": "code",
      "source": [
        "#Save the dataset name to the environment so we can use it in a system call later\n",
        "dataset_name = dataset.location.split(os.sep)[-1]\n",
        "os.environ[\"DATASET_NAME\"] = dataset_name"
      ],
      "metadata": {
        "id": "vp4W3sXMLLXd"
      },
      "execution_count": null,
      "outputs": []
    },
    {
      "cell_type": "code",
      "source": [
        "%cd ../yolov5\n",
        "!python classify/train.py --model yolov5s-cls.pt --data $DATASET_NAME --epochs 30"
      ],
      "metadata": {
        "colab": {
          "base_uri": "https://localhost:8080/"
        },
        "id": "8nn3wEYxT8LZ",
        "outputId": "5c21bd1f-10df-4e1e-cc47-c747e3fd32fa"
      },
      "execution_count": null,
      "outputs": [
        {
          "output_type": "stream",
          "name": "stdout",
          "text": [
            "/content/yolov5\n",
            "\u001b[34m\u001b[1mclassify/train: \u001b[0mmodel=yolov5s-cls.pt, data=Dataset_sample_proj-1, epochs=30, batch_size=64, imgsz=224, nosave=False, cache=None, device=, workers=8, project=runs/train-cls, name=exp, exist_ok=False, pretrained=True, optimizer=Adam, lr0=0.001, decay=5e-05, label_smoothing=0.1, cutoff=None, dropout=None, verbose=False, seed=0, local_rank=-1\n",
            "\u001b[34m\u001b[1mgithub: \u001b[0mup to date with https://github.com/ultralytics/yolov5 ✅\n",
            "\u001b[31m\u001b[1mrequirements:\u001b[0m YOLOv5 requirement \"tensorboard>=2.4.1\" not found, attempting AutoUpdate...\n",
            "\u001b[31mERROR: pip's dependency resolver does not currently take into account all the packages that are installed. This behaviour is the source of the following dependency conflicts.\n",
            "onnx 1.13.0 requires protobuf<4,>=3.20.2, but you have protobuf 3.19.6 which is incompatible.\u001b[0m\u001b[31m\n",
            "\u001b[0mLooking in indexes: https://pypi.org/simple, https://us-python.pkg.dev/colab-wheels/public/simple/\n",
            "Requirement already satisfied: tensorboard>=2.4.1 in /usr/local/lib/python3.8/dist-packages (2.9.1)\n",
            "Requirement already satisfied: requests<3,>=2.21.0 in /usr/local/lib/python3.8/dist-packages (from tensorboard>=2.4.1) (2.25.1)\n",
            "Requirement already satisfied: google-auth-oauthlib<0.5,>=0.4.1 in /usr/local/lib/python3.8/dist-packages (from tensorboard>=2.4.1) (0.4.6)\n",
            "Requirement already satisfied: wheel>=0.26 in /usr/local/lib/python3.8/dist-packages (from tensorboard>=2.4.1) (0.38.4)\n",
            "Requirement already satisfied: numpy>=1.12.0 in /usr/local/lib/python3.8/dist-packages (from tensorboard>=2.4.1) (1.21.6)\n",
            "Requirement already satisfied: grpcio>=1.24.3 in /usr/local/lib/python3.8/dist-packages (from tensorboard>=2.4.1) (1.51.1)\n",
            "Collecting protobuf<3.20,>=3.9.2\n",
            "  Downloading protobuf-3.19.6-cp38-cp38-manylinux_2_17_x86_64.manylinux2014_x86_64.whl (1.1 MB)\n",
            "     ━━━━━━━━━━━━━━━━━━━━━━━━━━━━━━━━━━━━━━━━ 1.1/1.1 MB 34.6 MB/s eta 0:00:00\n",
            "Requirement already satisfied: google-auth<3,>=1.6.3 in /usr/local/lib/python3.8/dist-packages (from tensorboard>=2.4.1) (2.15.0)\n",
            "Requirement already satisfied: markdown>=2.6.8 in /usr/local/lib/python3.8/dist-packages (from tensorboard>=2.4.1) (3.4.1)\n",
            "Requirement already satisfied: tensorboard-data-server<0.7.0,>=0.6.0 in /usr/local/lib/python3.8/dist-packages (from tensorboard>=2.4.1) (0.6.1)\n",
            "Requirement already satisfied: absl-py>=0.4 in /usr/local/lib/python3.8/dist-packages (from tensorboard>=2.4.1) (1.3.0)\n",
            "Requirement already satisfied: tensorboard-plugin-wit>=1.6.0 in /usr/local/lib/python3.8/dist-packages (from tensorboard>=2.4.1) (1.8.1)\n",
            "Requirement already satisfied: setuptools>=41.0.0 in /usr/local/lib/python3.8/dist-packages (from tensorboard>=2.4.1) (57.4.0)\n",
            "Requirement already satisfied: werkzeug>=1.0.1 in /usr/local/lib/python3.8/dist-packages (from tensorboard>=2.4.1) (1.0.1)\n",
            "Requirement already satisfied: pyasn1-modules>=0.2.1 in /usr/local/lib/python3.8/dist-packages (from google-auth<3,>=1.6.3->tensorboard>=2.4.1) (0.2.8)\n",
            "Requirement already satisfied: rsa<5,>=3.1.4 in /usr/local/lib/python3.8/dist-packages (from google-auth<3,>=1.6.3->tensorboard>=2.4.1) (4.9)\n",
            "Requirement already satisfied: six>=1.9.0 in /usr/local/lib/python3.8/dist-packages (from google-auth<3,>=1.6.3->tensorboard>=2.4.1) (1.15.0)\n",
            "Requirement already satisfied: cachetools<6.0,>=2.0.0 in /usr/local/lib/python3.8/dist-packages (from google-auth<3,>=1.6.3->tensorboard>=2.4.1) (5.2.0)\n",
            "Requirement already satisfied: requests-oauthlib>=0.7.0 in /usr/local/lib/python3.8/dist-packages (from google-auth-oauthlib<0.5,>=0.4.1->tensorboard>=2.4.1) (1.3.1)\n",
            "Requirement already satisfied: importlib-metadata>=4.4 in /usr/local/lib/python3.8/dist-packages (from markdown>=2.6.8->tensorboard>=2.4.1) (6.0.0)\n",
            "Requirement already satisfied: certifi>=2017.4.17 in /usr/local/lib/python3.8/dist-packages (from requests<3,>=2.21.0->tensorboard>=2.4.1) (2022.12.7)\n",
            "Requirement already satisfied: urllib3<1.27,>=1.21.1 in /usr/local/lib/python3.8/dist-packages (from requests<3,>=2.21.0->tensorboard>=2.4.1) (1.26.6)\n",
            "Requirement already satisfied: chardet<5,>=3.0.2 in /usr/local/lib/python3.8/dist-packages (from requests<3,>=2.21.0->tensorboard>=2.4.1) (4.0.0)\n",
            "Requirement already satisfied: idna<3,>=2.5 in /usr/local/lib/python3.8/dist-packages (from requests<3,>=2.21.0->tensorboard>=2.4.1) (2.10)\n",
            "Requirement already satisfied: zipp>=0.5 in /usr/local/lib/python3.8/dist-packages (from importlib-metadata>=4.4->markdown>=2.6.8->tensorboard>=2.4.1) (3.11.0)\n",
            "Requirement already satisfied: pyasn1<0.5.0,>=0.4.6 in /usr/local/lib/python3.8/dist-packages (from pyasn1-modules>=0.2.1->google-auth<3,>=1.6.3->tensorboard>=2.4.1) (0.4.8)\n",
            "Requirement already satisfied: oauthlib>=3.0.0 in /usr/local/lib/python3.8/dist-packages (from requests-oauthlib>=0.7.0->google-auth-oauthlib<0.5,>=0.4.1->tensorboard>=2.4.1) (3.2.2)\n",
            "Installing collected packages: protobuf\n",
            "  Attempting uninstall: protobuf\n",
            "    Found existing installation: protobuf 3.20.3\n",
            "    Uninstalling protobuf-3.20.3:\n",
            "      Successfully uninstalled protobuf-3.20.3\n",
            "Successfully installed protobuf-3.19.6\n",
            "\n",
            "\u001b[31m\u001b[1mrequirements:\u001b[0m 1 package updated per /content/yolov5/requirements.txt\n",
            "\u001b[31m\u001b[1mrequirements:\u001b[0m ⚠️ \u001b[1mRestart runtime or rerun command for updates to take effect\u001b[0m\n",
            "\n",
            "YOLOv5 🚀 v7.0-69-g3b6e27a Python-3.8.16 torch-1.13.0+cu116 CUDA:0 (Tesla T4, 15110MiB)\n",
            "\n",
            "\u001b[34m\u001b[1mTensorBoard: \u001b[0mStart with 'tensorboard --logdir runs/train-cls', view at http://localhost:6006/\n",
            "\u001b[34m\u001b[1malbumentations: \u001b[0mRandomResizedCrop(p=1.0, height=224, width=224, scale=(0.08, 1.0), ratio=(0.75, 1.3333333333333333), interpolation=1), HorizontalFlip(p=0.5), ColorJitter(p=0.5, brightness=[0.6, 1.4], contrast=[0.6, 1.4], saturation=[0.6, 1.4], hue=[0, 0]), Normalize(p=1.0, mean=(0.485, 0.456, 0.406), std=(0.229, 0.224, 0.225), max_pixel_value=255.0), ToTensorV2(always_apply=True, p=1.0, transpose_mask=False)\n",
            "Model summary: 149 layers, 4175042 parameters, 4175042 gradients, 10.5 GFLOPs\n",
            "\u001b[34m\u001b[1moptimizer:\u001b[0m Adam(lr=0.001) with parameter groups 32 weight(decay=0.0), 33 weight(decay=5e-05), 33 bias\n",
            "Image sizes 224 train, 224 test\n",
            "Using 1 dataloader workers\n",
            "Logging results to \u001b[1mruns/train-cls/exp2\u001b[0m\n",
            "Starting yolov5s-cls.pt training on Dataset_sample_proj-1 dataset with 2 classes for 30 epochs...\n",
            "\n",
            "     Epoch   GPU_mem  train_loss   test_loss    top1_acc    top5_acc\n",
            "      1/30     1.48G       0.403       0.495         0.8           1: 100% 5/5 [00:01<00:00,  2.80it/s]\n",
            "      2/30     1.48G       0.294        0.25           1           1: 100% 5/5 [00:02<00:00,  1.94it/s]\n",
            "      3/30     1.48G       0.294       0.275           1           1: 100% 5/5 [00:02<00:00,  1.90it/s]\n",
            "      4/30     1.48G       0.286       0.252           1           1: 100% 5/5 [00:02<00:00,  1.94it/s]\n",
            "      5/30     1.48G       0.246       0.621         0.7           1: 100% 5/5 [00:02<00:00,  1.99it/s]\n",
            "      6/30     1.48G       0.236       0.594        0.85           1: 100% 5/5 [00:02<00:00,  1.99it/s]\n",
            "      7/30     1.48G       0.253       0.248           1           1: 100% 5/5 [00:02<00:00,  1.94it/s]\n",
            "      8/30     1.48G       0.227       0.237           1           1: 100% 5/5 [00:04<00:00,  1.21it/s]\n",
            "      9/30     1.48G       0.229       0.224           1           1: 100% 5/5 [00:02<00:00,  1.86it/s]\n",
            "     10/30     1.48G       0.219       0.218           1           1: 100% 5/5 [00:02<00:00,  1.99it/s]\n",
            "     11/30     1.48G       0.227       0.212           1           1: 100% 5/5 [00:02<00:00,  2.02it/s]\n",
            "     12/30     1.48G       0.221       0.215           1           1: 100% 5/5 [00:02<00:00,  1.89it/s]\n",
            "     13/30     1.48G        0.22       0.215           1           1: 100% 5/5 [00:02<00:00,  2.08it/s]\n",
            "     14/30     1.48G       0.211        0.24           1           1: 100% 5/5 [00:02<00:00,  2.01it/s]\n",
            "     15/30     1.48G        0.22       0.231           1           1: 100% 5/5 [00:02<00:00,  1.95it/s]\n",
            "     16/30     1.48G       0.211       0.219           1           1: 100% 5/5 [00:02<00:00,  1.95it/s]\n",
            "     17/30     1.48G        0.21       0.213           1           1: 100% 5/5 [00:02<00:00,  2.00it/s]\n",
            "     18/30     1.48G       0.214       0.221           1           1: 100% 5/5 [00:02<00:00,  1.92it/s]\n",
            "     19/30     1.48G       0.215       0.222           1           1: 100% 5/5 [00:02<00:00,  1.94it/s]\n",
            "     20/30     1.48G       0.213       0.207           1           1: 100% 5/5 [00:02<00:00,  2.05it/s]\n",
            "     21/30     1.48G       0.211       0.205           1           1: 100% 5/5 [00:02<00:00,  1.92it/s]\n",
            "     22/30     1.48G       0.208       0.204           1           1: 100% 5/5 [00:02<00:00,  2.03it/s]\n",
            "     23/30     1.48G       0.215       0.205           1           1: 100% 5/5 [00:02<00:00,  1.96it/s]\n",
            "     24/30     1.48G       0.217       0.207           1           1: 100% 5/5 [00:02<00:00,  1.99it/s]\n",
            "     25/30     1.48G       0.214       0.208           1           1: 100% 5/5 [00:02<00:00,  1.90it/s]\n",
            "     26/30     1.48G       0.209       0.207           1           1: 100% 5/5 [00:02<00:00,  1.96it/s]\n",
            "     27/30     1.48G       0.206       0.208           1           1: 100% 5/5 [00:02<00:00,  1.92it/s]\n",
            "     28/30     1.48G       0.212       0.208           1           1: 100% 5/5 [00:02<00:00,  1.91it/s]\n",
            "     29/30     1.48G       0.208       0.207           1           1: 100% 5/5 [00:02<00:00,  1.90it/s]\n",
            "     30/30     1.48G       0.209       0.208           1           1: 100% 5/5 [00:02<00:00,  2.04it/s]\n",
            "\n",
            "Training complete (0.023 hours)\n",
            "Results saved to \u001b[1mruns/train-cls/exp2\u001b[0m\n",
            "Predict:         python classify/predict.py --weights runs/train-cls/exp2/weights/best.pt --source im.jpg\n",
            "Validate:        python classify/val.py --weights runs/train-cls/exp2/weights/best.pt --data /content/datasets/Dataset_sample_proj-1\n",
            "Export:          python export.py --weights runs/train-cls/exp2/weights/best.pt --include onnx\n",
            "PyTorch Hub:     model = torch.hub.load('ultralytics/yolov5', 'custom', 'runs/train-cls/exp2/weights/best.pt')\n",
            "Visualize:       https://netron.app\n",
            "\n"
          ]
        }
      ]
    },
    {
      "cell_type": "code",
      "source": [
        "!python export.py --weights runs/train-cls/exp/weights/best.pt --include onnx"
      ],
      "metadata": {
        "id": "-fs14i6KW1jK",
        "colab": {
          "base_uri": "https://localhost:8080/"
        },
        "outputId": "a6d6b369-1d34-4c35-9490-af28c369162e"
      },
      "execution_count": null,
      "outputs": [
        {
          "output_type": "stream",
          "name": "stdout",
          "text": [
            "\u001b[34m\u001b[1mexport: \u001b[0mdata=data/coco128.yaml, weights=['runs/train-cls/exp/weights/best.pt'], imgsz=[640, 640], batch_size=1, device=cpu, half=False, inplace=False, keras=False, optimize=False, int8=False, dynamic=False, simplify=False, opset=17, verbose=False, workspace=4, nms=False, agnostic_nms=False, topk_per_class=100, topk_all=100, iou_thres=0.45, conf_thres=0.25, include=['onnx']\n",
            "YOLOv5 🚀 v7.0-69-g3b6e27a Python-3.8.16 torch-1.13.0+cu116 CPU\n",
            "\n",
            "Fusing layers... \n",
            "Model summary: 117 layers, 4169250 parameters, 0 gradients, 10.4 GFLOPs\n",
            "\n",
            "\u001b[34m\u001b[1mPyTorch:\u001b[0m starting from runs/train-cls/exp/weights/best.pt with output shape (1, 2) (8.1 MB)\n",
            "\u001b[31m\u001b[1mrequirements:\u001b[0m YOLOv5 requirement \"onnx>=1.12.0\" not found, attempting AutoUpdate...\n",
            "\u001b[31mERROR: pip's dependency resolver does not currently take into account all the packages that are installed. This behaviour is the source of the following dependency conflicts.\n",
            "tensorflow 2.9.2 requires protobuf<3.20,>=3.9.2, but you have protobuf 3.20.3 which is incompatible.\n",
            "tensorboard 2.9.1 requires protobuf<3.20,>=3.9.2, but you have protobuf 3.20.3 which is incompatible.\u001b[0m\u001b[31m\n",
            "\u001b[0mLooking in indexes: https://pypi.org/simple, https://us-python.pkg.dev/colab-wheels/public/simple/\n",
            "Requirement already satisfied: onnx>=1.12.0 in /usr/local/lib/python3.8/dist-packages (1.13.0)\n",
            "Requirement already satisfied: numpy>=1.16.6 in /usr/local/lib/python3.8/dist-packages (from onnx>=1.12.0) (1.21.6)\n",
            "Collecting protobuf<4,>=3.20.2\n",
            "  Using cached protobuf-3.20.3-cp38-cp38-manylinux_2_5_x86_64.manylinux1_x86_64.whl (1.0 MB)\n",
            "Requirement already satisfied: typing-extensions>=3.6.2.1 in /usr/local/lib/python3.8/dist-packages (from onnx>=1.12.0) (4.4.0)\n",
            "Installing collected packages: protobuf\n",
            "  Attempting uninstall: protobuf\n",
            "    Found existing installation: protobuf 3.19.6\n",
            "    Uninstalling protobuf-3.19.6:\n",
            "      Successfully uninstalled protobuf-3.19.6\n",
            "Successfully installed protobuf-3.20.3\n",
            "\n",
            "\u001b[31m\u001b[1mrequirements:\u001b[0m 1 package updated per ['onnx>=1.12.0']\n",
            "\u001b[31m\u001b[1mrequirements:\u001b[0m ⚠️ \u001b[1mRestart runtime or rerun command for updates to take effect\u001b[0m\n",
            "\n",
            "\n",
            "\u001b[34m\u001b[1mONNX:\u001b[0m starting export with onnx 1.13.0...\n",
            "\u001b[34m\u001b[1mONNX:\u001b[0m export success ✅ 10.9s, saved as runs/train-cls/exp/weights/best.onnx (15.9 MB)\n",
            "\n",
            "Export complete (11.8s)\n",
            "Results saved to \u001b[1m/content/yolov5/runs/train-cls/exp/weights\u001b[0m\n",
            "Detect:          python classify/predict.py --weights runs/train-cls/exp/weights/best.onnx \n",
            "Validate:        python classify/val.py --weights runs/train-cls/exp/weights/best.onnx \n",
            "PyTorch Hub:     model = torch.hub.load('ultralytics/yolov5', 'custom', 'runs/train-cls/exp/weights/best.onnx')  # WARNING ⚠️ ClassificationModel not yet supported for PyTorch Hub AutoShape inference\n",
            "Visualize:       https://netron.app\n"
          ]
        }
      ]
    },
    {
      "cell_type": "code",
      "source": [
        "!python classify/val.py --weights runs/train-cls/exp/weights/best.pt --data ../datasets/$DATASET_NAME"
      ],
      "metadata": {
        "id": "vz_0XMl_VzZK",
        "colab": {
          "base_uri": "https://localhost:8080/"
        },
        "outputId": "34e12642-9cdc-42e3-f6cb-98e6db8abf99"
      },
      "execution_count": null,
      "outputs": [
        {
          "output_type": "stream",
          "name": "stdout",
          "text": [
            "\u001b[34m\u001b[1mclassify/val: \u001b[0mdata=../datasets/Dataset_sample_proj-1, weights=['runs/train-cls/exp/weights/best.pt'], batch_size=128, imgsz=224, device=, workers=8, verbose=True, project=runs/val-cls, name=exp, exist_ok=False, half=False, dnn=False\n",
            "YOLOv5 🚀 v7.0-69-g3b6e27a Python-3.8.16 torch-1.13.0+cu116 CUDA:0 (Tesla T4, 15110MiB)\n",
            "\n",
            "Fusing layers... \n",
            "Model summary: 117 layers, 4169250 parameters, 0 gradients, 10.4 GFLOPs\n",
            "testing: 100% 1/1 [00:00<00:00,  2.93it/s]\n",
            "                   Class      Images    top1_acc    top5_acc\n",
            "                     all          20           1           1\n",
            "                  people          10           1           1\n",
            "                vehichle          10           1           1\n",
            "Speed: 0.1ms pre-process, 5.1ms inference, 0.0ms post-process per image at shape (1, 3, 224, 224)\n",
            "Results saved to \u001b[1mruns/val-cls/exp2\u001b[0m\n"
          ]
        }
      ]
    },
    {
      "cell_type": "code",
      "source": [
        "#Get the path of an image from the test or validation set\n",
        "if os.path.exists(os.path.join(dataset.location, \"test\")):\n",
        "  split_path = os.path.join(dataset.location, \"test\")\n",
        "else:\n",
        "  os.path.join(dataset.location, \"valid\")\n",
        "example_class = os.listdir(split_path)[1]\n",
        "example_image_name = os.listdir(os.path.join(split_path, example_class))[4]\n",
        "example_image_path = os.path.join(split_path, example_class, example_image_name)\n",
        "os.environ[\"TEST_IMAGE_PATH\"] = example_image_path\n",
        "\n",
        "print(f\"Inferring on an example of the class '{example_class}'\")\n",
        "\n",
        "#Infer\n",
        "!python classify/predict.py --weights runs/train-cls/exp/weights/best.pt --source $TEST_IMAGE_PATH"
      ],
      "metadata": {
        "id": "pEAFSVgvWDJv",
        "colab": {
          "base_uri": "https://localhost:8080/"
        },
        "outputId": "b9d1f575-3285-4ca1-b526-d118276acb43"
      },
      "execution_count": null,
      "outputs": [
        {
          "output_type": "stream",
          "name": "stdout",
          "text": [
            "Inferring on an example of the class 'people'\n",
            "\u001b[34m\u001b[1mclassify/predict: \u001b[0mweights=['runs/train-cls/exp/weights/best.pt'], source=/content/Data_2/Dataset_sample_proj-1/test/people/img_11_jpg.rf.848da427c62124f4a961f6ad636176e8.jpg, data=data/coco128.yaml, imgsz=[224, 224], device=, view_img=False, save_txt=False, nosave=False, augment=False, visualize=False, update=False, project=runs/predict-cls, name=exp, exist_ok=False, half=False, dnn=False, vid_stride=1\n",
            "YOLOv5 🚀 v7.0-69-g3b6e27a Python-3.8.16 torch-1.13.0+cu116 CUDA:0 (Tesla T4, 15110MiB)\n",
            "\n",
            "Fusing layers... \n",
            "Model summary: 117 layers, 4169250 parameters, 0 gradients, 10.4 GFLOPs\n",
            "image 1/1 /content/Data_2/Dataset_sample_proj-1/test/people/img_11_jpg.rf.848da427c62124f4a961f6ad636176e8.jpg: 224x224 people 0.94, vehichle 0.06, 4.7ms\n",
            "Speed: 0.3ms pre-process, 4.7ms inference, 0.1ms NMS per image at shape (1, 3, 224, 224)\n",
            "Results saved to \u001b[1mruns/predict-cls/exp4\u001b[0m\n"
          ]
        }
      ]
    },
    {
      "cell_type": "code",
      "source": [
        "from matplotlib import image as mpimg\n",
        "image = mpimg.imread('/content/yolov5/runs/predict-cls/exp4/img_11_jpg.rf.848da427c62124f4a961f6ad636176e8.jpg')\n",
        "plt.imshow(image)\n",
        "plt.show()"
      ],
      "metadata": {
        "id": "4VI2FyxRAHXT",
        "colab": {
          "base_uri": "https://localhost:8080/",
          "height": 729
        },
        "outputId": "364dbc4b-47d6-4ccd-ff71-c536360fb77a"
      },
      "execution_count": null,
      "outputs": [
        {
          "output_type": "display_data",
          "data": {
            "text/plain": [
              "<Figure size 720x720 with 1 Axes>"
            ],
            "image/png": "[encoded data removed]"
          },
          "metadata": {
            "needs_background": "light"
          }
        }
      ]
    },
    {
      "cell_type": "markdown",
      "source": [
        "People image classified correctly as 94% probablity of that label "
      ],
      "metadata": {
        "id": "wPldOHQv4fFB"
      }
    },
    {
      "cell_type": "markdown",
      "source": [
        "# Question 3"
      ],
      "metadata": {
        "id": "-w0pk5UA6ISj"
      }
    },
    {
      "cell_type": "code",
      "source": [
        "from google.colab import drive\n",
        "drive.mount('/content/drive')"
      ],
      "metadata": {
        "colab": {
          "base_uri": "https://localhost:8080/"
        },
        "id": "gkgPPSe5ClHg",
        "outputId": "a35a7816-5447-477d-9dd2-c204fe763560"
      },
      "execution_count": null,
      "outputs": [
        {
          "output_type": "stream",
          "name": "stdout",
          "text": [
            "Drive already mounted at /content/drive; to attempt to forcibly remount, call drive.mount(\"/content/drive\", force_remount=True).\n"
          ]
        }
      ]
    },
    {
      "cell_type": "code",
      "source": [
        "test_dir= '/content/drive/MyDrive/Data_3/Non-Aug/test_set'\n",
        "val_dir= '/content/drive/MyDrive/Data_3/Non-Aug/validation_set'\n",
        "train_dir= '/content/drive/MyDrive/Data_3/Non-Aug/training_set'"
      ],
      "metadata": {
        "id": "JcSVdN-AEFhf"
      },
      "execution_count": null,
      "outputs": []
    },
    {
      "cell_type": "code",
      "source": [
        "train_dir_cats = train_dir + '/cats'\n",
        "train_dir_dogs = train_dir + '/dogs'\n",
        "test_dir_cats = test_dir + '/cats'\n",
        "test_dir_dogs = test_dir + '/dogs'\n",
        "val_dir_dogs = val_dir + '/dogs'\n",
        "val_dir_cats = val_dir + '/cats'"
      ],
      "metadata": {
        "id": "uIQzuG_OE33i"
      },
      "execution_count": null,
      "outputs": []
    },
    {
      "cell_type": "code",
      "source": [
        "print('number of cats training images - ',len(os.listdir(train_dir_cats)))\n",
        "print('number of dogs training images - ',len(os.listdir(train_dir_dogs)))\n",
        "print('number of cats testing images - ',len(os.listdir(test_dir_cats)))\n",
        "print('number of dogs testing images - ',len(os.listdir(test_dir_dogs)))"
      ],
      "metadata": {
        "colab": {
          "base_uri": "https://localhost:8080/"
        },
        "id": "hYo9uv8WF_8o",
        "outputId": "303d455a-3242-49bb-983e-1762a8b06bd7"
      },
      "execution_count": null,
      "outputs": [
        {
          "output_type": "stream",
          "name": "stdout",
          "text": [
            "number of cats training images -  300\n",
            "number of dogs training images -  300\n",
            "number of cats testing images -  50\n",
            "number of dogs testing images -  50\n"
          ]
        }
      ]
    },
    {
      "cell_type": "markdown",
      "source": [
        "##Implementing Deep Neural Network classifier on Non Augmented dataset "
      ],
      "metadata": {
        "id": "OBEx5JjMD5vH"
      }
    },
    {
      "cell_type": "code",
      "source": [
        "# importing libraries\n",
        "import pandas as pd\n",
        "import numpy as np\n",
        "import matplotlib.pyplot as plt\n",
        "import tensorflow as tf\n",
        "import os\n",
        "from tensorflow.keras.preprocessing import image\n",
        "from zipfile import ZipFile \n",
        "import cv2\n",
        "\n",
        "# importing libraries for Deep Learning\n",
        "from tensorflow.keras.models import Sequential\n",
        "from tensorflow.keras.layers import MaxPooling2D, Flatten, Dense, Dropout, Activation\n",
        "from tensorflow.keras.preprocessing.image import ImageDataGenerator"
      ],
      "metadata": {
        "id": "_2kS28OvCmuT"
      },
      "execution_count": null,
      "outputs": []
    },
    {
      "cell_type": "code",
      "source": [
        "data_generator = ImageDataGenerator(rescale = 1.0/255.0, zoom_range = 0.2)\n",
        "\n",
        "batch_size = 32\n",
        "print(\"Training Data: \")\n",
        "training_data = data_generator.flow_from_directory(directory = train_dir,\n",
        "                                                   target_size = (64, 64),\n",
        "                                                   batch_size = batch_size,\n",
        "                                                   class_mode = 'binary')\n",
        "print(\"Test Data\")\n",
        "testing_data = data_generator.flow_from_directory(directory = test_dir,\n",
        "                                                  target_size = (64, 64),\n",
        "                                                  batch_size = batch_size,\n",
        "                                                  class_mode = 'binary')"
      ],
      "metadata": {
        "colab": {
          "base_uri": "https://localhost:8080/"
        },
        "id": "ec9OrzABGHhD",
        "outputId": "4c7adec6-66fe-4544-e9f2-a544c8bc26c8"
      },
      "execution_count": null,
      "outputs": [
        {
          "output_type": "stream",
          "name": "stdout",
          "text": [
            "Training Data: \n",
            "Found 600 images belonging to 2 classes.\n",
            "Test Data\n",
            "Found 100 images belonging to 2 classes.\n"
          ]
        }
      ]
    },
    {
      "cell_type": "code",
      "source": [
        "model = Sequential([\n",
        "    \n",
        "    Flatten(input_shape = training_data.image_shape),\n",
        "    \n",
        "      # dense layer 1\n",
        "    Dense(64, activation='relu'),  \n",
        "     # dense layer 2\n",
        "    Dense(32, activation='relu'),\n",
        "    # dense layer 3\n",
        "    Dense(16, activation='relu'),\n",
        "   \n",
        "    \n",
        "    \n",
        "      # output layer\n",
        "    Dense(units = 1, activation = 'sigmoid'),  \n",
        "])"
      ],
      "metadata": {
        "id": "fkU7jVyOHiwG"
      },
      "execution_count": null,
      "outputs": []
    },
    {
      "cell_type": "markdown",
      "source": [
        "3 deep learning model activation dunction ReLu and since its binary classification output layer has activation function sigmoid "
      ],
      "metadata": {
        "id": "LinouxQxHwzv"
      }
    },
    {
      "cell_type": "code",
      "source": [
        "model.compile(optimizer='adam',\n",
        "              loss='binary_crossentropy',\n",
        "              metrics=['accuracy'])"
      ],
      "metadata": {
        "id": "zGdl8G1RHvvu"
      },
      "execution_count": null,
      "outputs": []
    },
    {
      "cell_type": "markdown",
      "source": [
        "Adam optimizer and binary_crossentropy loss function used "
      ],
      "metadata": {
        "id": "l2KqsYLAIGMP"
      }
    },
    {
      "cell_type": "code",
      "source": [
        "fitted_model = model.fit(training_data, validation_data=testing_data, epochs=20, batch_size=32)"
      ],
      "metadata": {
        "colab": {
          "base_uri": "https://localhost:8080/"
        },
        "id": "yMd2qoBTIEN4",
        "outputId": "64297305-402b-4b53-de50-1d46707e11ab"
      },
      "execution_count": null,
      "outputs": [
        {
          "output_type": "stream",
          "name": "stdout",
          "text": [
            "Epoch 1/20\n",
            "60/60 [==============================] - 11s 176ms/step - loss: -284.7105 - accuracy: 0.4984 - val_loss: 1276.5967 - val_accuracy: 0.5000\n",
            "Epoch 2/20\n",
            "60/60 [==============================] - 10s 173ms/step - loss: -3716.9612 - accuracy: 0.5026 - val_loss: 11476.8848 - val_accuracy: 0.5000\n",
            "Epoch 3/20\n",
            "60/60 [==============================] - 10s 171ms/step - loss: -22150.1934 - accuracy: 0.5026 - val_loss: 55797.1562 - val_accuracy: 0.5000\n",
            "Epoch 4/20\n",
            "60/60 [==============================] - 10s 174ms/step - loss: -83117.3828 - accuracy: 0.5026 - val_loss: 178542.6875 - val_accuracy: 0.5000\n",
            "Epoch 5/20\n",
            "60/60 [==============================] - 10s 171ms/step - loss: -233219.8125 - accuracy: 0.5026 - val_loss: 459067.1875 - val_accuracy: 0.5000\n",
            "Epoch 6/20\n",
            "60/60 [==============================] - 10s 173ms/step - loss: -532377.0000 - accuracy: 0.5026 - val_loss: 977457.6875 - val_accuracy: 0.5000\n",
            "Epoch 7/20\n",
            "60/60 [==============================] - 10s 172ms/step - loss: -1065394.0000 - accuracy: 0.5026 - val_loss: 1847354.5000 - val_accuracy: 0.5000\n",
            "Epoch 8/20\n",
            "60/60 [==============================] - 10s 173ms/step - loss: -1916214.7500 - accuracy: 0.5026 - val_loss: 3190440.2500 - val_accuracy: 0.5000\n",
            "Epoch 9/20\n",
            "60/60 [==============================] - 10s 172ms/step - loss: -3206909.0000 - accuracy: 0.5026 - val_loss: 5222991.0000 - val_accuracy: 0.5000\n",
            "Epoch 10/20\n",
            "60/60 [==============================] - 10s 172ms/step - loss: -5036268.0000 - accuracy: 0.5026 - val_loss: 7942723.0000 - val_accuracy: 0.5000\n",
            "Epoch 11/20\n",
            "60/60 [==============================] - 10s 172ms/step - loss: -7557900.5000 - accuracy: 0.5026 - val_loss: 11656031.0000 - val_accuracy: 0.5000\n",
            "Epoch 12/20\n",
            "60/60 [==============================] - 10s 170ms/step - loss: -10888252.0000 - accuracy: 0.5026 - val_loss: 16481476.0000 - val_accuracy: 0.5000\n",
            "Epoch 13/20\n",
            "60/60 [==============================] - 10s 171ms/step - loss: -15143240.0000 - accuracy: 0.5026 - val_loss: 22582964.0000 - val_accuracy: 0.5000\n",
            "Epoch 14/20\n",
            "60/60 [==============================] - 10s 171ms/step - loss: -20460662.0000 - accuracy: 0.5026 - val_loss: 30790814.0000 - val_accuracy: 0.5000\n",
            "Epoch 15/20\n",
            "60/60 [==============================] - 10s 172ms/step - loss: -27169144.0000 - accuracy: 0.5026 - val_loss: 39490392.0000 - val_accuracy: 0.5000\n",
            "Epoch 16/20\n",
            "60/60 [==============================] - 10s 171ms/step - loss: -35099824.0000 - accuracy: 0.5026 - val_loss: 50981884.0000 - val_accuracy: 0.5000\n",
            "Epoch 17/20\n",
            "60/60 [==============================] - 10s 171ms/step - loss: -44732300.0000 - accuracy: 0.5026 - val_loss: 64386340.0000 - val_accuracy: 0.5000\n",
            "Epoch 18/20\n",
            "60/60 [==============================] - 10s 170ms/step - loss: -55975480.0000 - accuracy: 0.5026 - val_loss: 80148904.0000 - val_accuracy: 0.5000\n",
            "Epoch 19/20\n",
            "60/60 [==============================] - 10s 170ms/step - loss: -68837048.0000 - accuracy: 0.5026 - val_loss: 97812832.0000 - val_accuracy: 0.5000\n",
            "Epoch 20/20\n",
            "60/60 [==============================] - 10s 173ms/step - loss: -83928984.0000 - accuracy: 0.5026 - val_loss: 117939592.0000 - val_accuracy: 0.5000\n"
          ]
        }
      ]
    },
    {
      "cell_type": "markdown",
      "source": [
        "###Results \n",
        "Final accuracy for deep neural network was noted to be 55% for non augmented data "
      ],
      "metadata": {
        "id": "A0tg6q_gKRYv"
      }
    },
    {
      "cell_type": "markdown",
      "source": [
        "## Implementing CNN for non Augmented data "
      ],
      "metadata": {
        "id": "ua5RVIOVKkxi"
      }
    },
    {
      "cell_type": "code",
      "source": [
        "# importing libraries\n",
        "import pandas as pd\n",
        "import numpy as np\n",
        "import matplotlib.pyplot as plt\n",
        "import tensorflow as tf\n",
        "import os\n",
        "from tensorflow.keras.preprocessing import image\n",
        "from zipfile import ZipFile \n",
        "import cv2\n",
        "\n",
        "# importing libraries for Deep Learning\n",
        "from tensorflow.keras.models import Sequential\n",
        "from tensorflow.keras.layers import Conv2D, MaxPooling2D, Flatten, Dense, Dropout, Activation\n",
        "from tensorflow.keras.preprocessing.image import ImageDataGenerator"
      ],
      "metadata": {
        "id": "nirlpG6xJ3pq"
      },
      "execution_count": null,
      "outputs": []
    },
    {
      "cell_type": "code",
      "source": [
        "train_datagen = ImageDataGenerator(rescale=1./255)\n",
        "test_datagen = ImageDataGenerator(rescale=1./255)\n",
        "validation_datagen =ImageDataGenerator(rescale=1./255)"
      ],
      "metadata": {
        "id": "UjVu0RGmK_dr"
      },
      "execution_count": null,
      "outputs": []
    },
    {
      "cell_type": "code",
      "source": [
        "#fetching data from directory in batch of 20 and resizing it to 150*150 \n",
        "train_genrator = train_datagen.flow_from_directory(train_dir, target_size= (150,150),batch_size = 20, class_mode= 'binary')"
      ],
      "metadata": {
        "colab": {
          "base_uri": "https://localhost:8080/"
        },
        "id": "7UHGNr3GLG0A",
        "outputId": "813e7cbf-6024-4503-91cc-3bb18f0b568d"
      },
      "execution_count": null,
      "outputs": [
        {
          "output_type": "stream",
          "name": "stdout",
          "text": [
            "Found 600 images belonging to 2 classes.\n"
          ]
        }
      ]
    },
    {
      "cell_type": "code",
      "source": [
        "validation_generator = validation_datagen .flow_from_directory(test_dir, target_size= (150,150),batch_size = 20, class_mode= 'binary')"
      ],
      "metadata": {
        "colab": {
          "base_uri": "https://localhost:8080/"
        },
        "id": "Z04Tv4leLUF-",
        "outputId": "289babcf-b463-4fd7-fec5-748001634a20"
      },
      "execution_count": null,
      "outputs": [
        {
          "output_type": "stream",
          "name": "stdout",
          "text": [
            "Found 100 images belonging to 2 classes.\n"
          ]
        }
      ]
    },
    {
      "cell_type": "code",
      "source": [
        "j = 0 \n",
        "for data_batch, labels_batch in train_genrator:\n",
        "    print('data batch shape:', data_batch.shape)\n",
        "    print('labels batch shape:', labels_batch.shape)\n",
        "    break"
      ],
      "metadata": {
        "colab": {
          "base_uri": "https://localhost:8080/"
        },
        "id": "EZimzkaqLZMl",
        "outputId": "e1b2051c-ff21-4bbf-b57e-5f87b11d6223"
      },
      "execution_count": null,
      "outputs": [
        {
          "output_type": "stream",
          "name": "stdout",
          "text": [
            "data batch shape: (20, 150, 150, 3)\n",
            "labels batch shape: (20,)\n"
          ]
        }
      ]
    },
    {
      "cell_type": "code",
      "source": [
        "model = Sequential()\n",
        "#building image \n",
        "model.add(Conv2D(32, (3, 3), activation='relu', input_shape=(150,150,3)))\n",
        "model.add(MaxPooling2D(pool_size=(2, 2)))\n",
        "model.add(Conv2D(64, (3, 3), activation='relu', input_shape=(150,150,3)))\n",
        "model.add(MaxPooling2D(pool_size=(2, 2)))\n",
        "model.add(Conv2D(128, (3, 3), activation='relu', input_shape=(150,150,3)))\n",
        "model.add(MaxPooling2D(pool_size=(2, 2)))\n",
        "model.add(Conv2D(128, (3, 3), activation='relu', input_shape=(150,150,3)))\n",
        "model.add(MaxPooling2D(pool_size=(2, 2)))\n",
        "model.add(Flatten())\n",
        "model.add(Dense(512,activation='relu'))\n",
        "model.add(Dense(1,activation='sigmoid'))"
      ],
      "metadata": {
        "id": "goVdo69LMi7D"
      },
      "execution_count": null,
      "outputs": []
    },
    {
      "cell_type": "markdown",
      "source": [
        "A 4 layered Convolution Neural Network with 1 fully connected layer having activation Sigmoid "
      ],
      "metadata": {
        "id": "RyohGqLvMsbK"
      }
    },
    {
      "cell_type": "code",
      "source": [
        "model.compile(loss= 'binary_crossentropy', optimizer= 'adam', metrics = ['accuracy'])"
      ],
      "metadata": {
        "id": "pZrlUyVCModF"
      },
      "execution_count": null,
      "outputs": []
    },
    {
      "cell_type": "code",
      "source": [
        "val= model.fit(train_genrator, steps_per_epoch= 30, validation_data= validation_generator, validation_steps=30, epochs= 20)"
      ],
      "metadata": {
        "colab": {
          "base_uri": "https://localhost:8080/"
        },
        "id": "LcByxuC3M_au",
        "outputId": "3e82dc93-ca93-4f00-d572-a7dc682320b5"
      },
      "execution_count": null,
      "outputs": [
        {
          "output_type": "stream",
          "name": "stdout",
          "text": [
            "Epoch 1/20\n",
            "30/30 [==============================] - ETA: 0s - loss: 0.7008 - accuracy: 0.5267"
          ]
        },
        {
          "output_type": "stream",
          "name": "stderr",
          "text": [
            "WARNING:tensorflow:Your input ran out of data; interrupting training. Make sure that your dataset or generator can generate at least `steps_per_epoch * epochs` batches (in this case, 30 batches). You may need to use the repeat() function when building your dataset.\n"
          ]
        },
        {
          "output_type": "stream",
          "name": "stdout",
          "text": [
            "\b\b\b\b\b\b\b\b\b\b\b\b\b\b\b\b\b\b\b\b\b\b\b\b\b\b\b\b\b\b\b\b\b\b\b\b\b\b\b\b\b\b\b\b\b\b\b\b\b\b\b\b\b\b\b\b\b\b\b\b\b\b\b\b\b\b\b\b\b\b\b\b\b\b\b\b\b\b\b\b\b\b\r30/30 [==============================] - 13s 144ms/step - loss: 0.7008 - accuracy: 0.5267 - val_loss: 0.6930 - val_accuracy: 0.5000\n",
            "Epoch 2/20\n",
            "30/30 [==============================] - 3s 98ms/step - loss: 0.6929 - accuracy: 0.5050\n",
            "Epoch 3/20\n",
            "30/30 [==============================] - 3s 97ms/step - loss: 0.6909 - accuracy: 0.5267\n",
            "Epoch 4/20\n",
            "30/30 [==============================] - 3s 95ms/step - loss: 0.6928 - accuracy: 0.6017\n",
            "Epoch 5/20\n",
            "30/30 [==============================] - 3s 94ms/step - loss: 0.6821 - accuracy: 0.5683\n",
            "Epoch 6/20\n",
            "30/30 [==============================] - 3s 94ms/step - loss: 0.6600 - accuracy: 0.6017\n",
            "Epoch 7/20\n",
            "30/30 [==============================] - 3s 96ms/step - loss: 0.6293 - accuracy: 0.6550\n",
            "Epoch 8/20\n",
            "30/30 [==============================] - 3s 94ms/step - loss: 0.5913 - accuracy: 0.6683\n",
            "Epoch 9/20\n",
            "30/30 [==============================] - 3s 95ms/step - loss: 0.5724 - accuracy: 0.6967\n",
            "Epoch 10/20\n",
            "30/30 [==============================] - 3s 98ms/step - loss: 0.5321 - accuracy: 0.7367\n",
            "Epoch 11/20\n",
            "30/30 [==============================] - 3s 94ms/step - loss: 0.4606 - accuracy: 0.7783\n",
            "Epoch 12/20\n",
            "30/30 [==============================] - 3s 97ms/step - loss: 0.4160 - accuracy: 0.8083\n",
            "Epoch 13/20\n",
            "30/30 [==============================] - 3s 92ms/step - loss: 0.3382 - accuracy: 0.8583\n",
            "Epoch 14/20\n",
            "30/30 [==============================] - 3s 94ms/step - loss: 0.2952 - accuracy: 0.8633\n",
            "Epoch 15/20\n",
            "30/30 [==============================] - 3s 94ms/step - loss: 0.1825 - accuracy: 0.9283\n",
            "Epoch 16/20\n",
            "30/30 [==============================] - 3s 94ms/step - loss: 0.0808 - accuracy: 0.9717\n",
            "Epoch 17/20\n",
            "30/30 [==============================] - 3s 94ms/step - loss: 0.1090 - accuracy: 0.9567\n",
            "Epoch 18/20\n",
            "30/30 [==============================] - 3s 96ms/step - loss: 0.1232 - accuracy: 0.9500\n",
            "Epoch 19/20\n",
            "30/30 [==============================] - 3s 94ms/step - loss: 0.1099 - accuracy: 0.9617\n",
            "Epoch 20/20\n",
            "30/30 [==============================] - 3s 95ms/step - loss: 0.0891 - accuracy: 0.9650\n"
          ]
        }
      ]
    },
    {
      "cell_type": "markdown",
      "source": [
        "Convolution neural network was only able to reach accuracy of 96% with non augmented dataset "
      ],
      "metadata": {
        "id": "0baej5R7PUQL"
      }
    },
    {
      "cell_type": "markdown",
      "source": [
        "## **Augmenting dataset** "
      ],
      "metadata": {
        "id": "ycWhj67oWxi0"
      }
    },
    {
      "cell_type": "code",
      "source": [
        "datagen = ImageDataGenerator(\n",
        "        rotation_range=40,\n",
        "        width_shift_range=0.2,\n",
        "        height_shift_range=0.2,\n",
        "        shear_range=0.2,\n",
        "        zoom_range=0.2,\n",
        "        horizontal_flip=True,\n",
        "        fill_mode='nearest')\n",
        "img = tf.keras.utils.load_img('/content/drive/MyDrive/Data_3/Non-Aug/training_set/cats/cat.701.jpg')\n",
        "\n",
        "x = tf.keras.utils.img_to_array(img)  # this is a Numpy array with shape (3, 150, 150)\n",
        "x = x.reshape((1,) + x.shape)  # this is a Numpy array with shape (1, 3, 150, 150)\n",
        "\n",
        "i = 0\n",
        "for batch in datagen.flow(x, batch_size=1,\n",
        "                          save_to_dir='/content/drive/MyDrive/Data_3/Aug/training_set/cats', save_prefix='cat', save_format='jpg'):\n",
        "    i += 1\n",
        "    if i > 800:\n",
        "        break "
      ],
      "metadata": {
        "id": "33yJIuUTPiE5"
      },
      "execution_count": null,
      "outputs": []
    },
    {
      "cell_type": "code",
      "source": [
        "datagen = ImageDataGenerator(\n",
        "        rotation_range=40,\n",
        "        width_shift_range=0.2,\n",
        "        height_shift_range=0.2,\n",
        "        shear_range=0.2,\n",
        "        zoom_range=0.2,\n",
        "        horizontal_flip=True,\n",
        "        fill_mode='nearest')\n",
        "img = tf.keras.utils.load_img('/content/drive/MyDrive/Data_3/Non-Aug/training_set/dogs/dog.701.jpg')\n",
        "\n",
        "x = tf.keras.utils.img_to_array(img)  # this is a Numpy array with shape (3, 150, 150)\n",
        "x = x.reshape((1,) + x.shape)  # this is a Numpy array with shape (1, 3, 150, 150)\n",
        "\n",
        "i = 0\n",
        "for batch in datagen.flow(x, batch_size=1,\n",
        "                          save_to_dir='/content/drive/MyDrive/Data_3/Aug/training_set/dogs', save_prefix='dog', save_format='jpg'):\n",
        "    i += 1\n",
        "    if i > 800:\n",
        "        break "
      ],
      "metadata": {
        "id": "tqHBldjQXLJs"
      },
      "execution_count": null,
      "outputs": []
    },
    {
      "cell_type": "markdown",
      "source": [
        "Image augmented to 1000 values for each class (dont know why it shows three classes i am only able to locate 2)"
      ],
      "metadata": {
        "id": "fKiuE-4EeIdq"
      }
    },
    {
      "cell_type": "code",
      "source": [
        "train_dir_aug= '/content/drive/MyDrive/Data_3/Aug/training_set'"
      ],
      "metadata": {
        "id": "fBVewy_Koje0"
      },
      "execution_count": null,
      "outputs": []
    },
    {
      "cell_type": "code",
      "source": [
        "train_dir_cats_aug = train_dir_aug + '/cats'\n",
        "train_dir_dogs_aug = train_dir_aug + '/dogs'"
      ],
      "metadata": {
        "id": "OOtd6K1XZJum"
      },
      "execution_count": null,
      "outputs": []
    },
    {
      "cell_type": "code",
      "source": [
        "train_genrator_a = train_datagen.flow_from_directory(train_dir_aug, target_size= (150,150),batch_size = 20, class_mode= 'binary')"
      ],
      "metadata": {
        "colab": {
          "base_uri": "https://localhost:8080/"
        },
        "id": "-tsPEXTgYRQd",
        "outputId": "b223bc54-e8e2-46a8-fdc9-7bf03033c7bf"
      },
      "execution_count": null,
      "outputs": [
        {
          "output_type": "stream",
          "name": "stdout",
          "text": [
            "Found 3639 images belonging to 3 classes.\n"
          ]
        }
      ]
    },
    {
      "cell_type": "markdown",
      "source": [
        "## DNN with augmented data "
      ],
      "metadata": {
        "id": "OeyClWFeY4Ug"
      }
    },
    {
      "cell_type": "code",
      "source": [
        "data_generator = ImageDataGenerator(rescale = 1.0/255.0, zoom_range = 0.2)\n",
        "\n",
        "batch_size = 32\n",
        "print(\"Training Data: \")\n",
        "training_data = data_generator.flow_from_directory(directory = train_dir_aug,\n",
        "                                                   target_size = (64, 64),\n",
        "                                                   batch_size = batch_size,\n",
        "                                                   class_mode = 'binary')\n",
        "print(\"Test Data\")\n",
        "testing_data = data_generator.flow_from_directory(directory = test_dir,\n",
        "                                                  target_size = (64, 64),\n",
        "                                                  batch_size = batch_size,\n",
        "                                                  class_mode = 'binary')"
      ],
      "metadata": {
        "colab": {
          "base_uri": "https://localhost:8080/"
        },
        "id": "zy5nGCQKZjkE",
        "outputId": "f39c790b-4741-4b69-9197-8feada41b0f0"
      },
      "execution_count": null,
      "outputs": [
        {
          "output_type": "stream",
          "name": "stdout",
          "text": [
            "Training Data: \n",
            "Found 3639 images belonging to 3 classes.\n",
            "Test Data\n",
            "Found 100 images belonging to 2 classes.\n"
          ]
        }
      ]
    },
    {
      "cell_type": "code",
      "source": [
        "model = Sequential([\n",
        "    \n",
        "    Flatten(input_shape = training_data.image_shape),\n",
        "    \n",
        "      # dense layer 1\n",
        "    Dense(64, activation='relu'),  \n",
        "     # dense layer 2\n",
        "    Dense(32, activation='relu'),\n",
        "    # dense layer 3\n",
        "    Dense(16, activation='relu'),\n",
        "   \n",
        "    \n",
        "    \n",
        "      # output layer\n",
        "    Dense(units = 1, activation = 'sigmoid'),  \n",
        "])"
      ],
      "metadata": {
        "id": "8Y60ZaIyaT0W"
      },
      "execution_count": null,
      "outputs": []
    },
    {
      "cell_type": "code",
      "source": [
        "model.compile(optimizer='adam',\n",
        "              loss='binary_crossentropy',\n",
        "              metrics=['accuracy'])"
      ],
      "metadata": {
        "id": "a5ENIZiGaX9R"
      },
      "execution_count": null,
      "outputs": []
    },
    {
      "cell_type": "code",
      "source": [
        "fitted_model = model.fit(training_data, validation_data=testing_data, epochs=20, batch_size=32)"
      ],
      "metadata": {
        "colab": {
          "base_uri": "https://localhost:8080/"
        },
        "id": "JLvhQWaAearZ",
        "outputId": "859a967e-0388-4e87-cb21-c9fa01d440fe"
      },
      "execution_count": null,
      "outputs": [
        {
          "output_type": "stream",
          "name": "stdout",
          "text": [
            "Epoch 1/20\n",
            "114/114 [==============================] - 21s 173ms/step - loss: -1955.0690 - accuracy: 0.4990 - val_loss: 11847.2100 - val_accuracy: 0.5000\n",
            "Epoch 2/20\n",
            "114/114 [==============================] - 23s 200ms/step - loss: -59207.3047 - accuracy: 0.5023 - val_loss: 207459.5469 - val_accuracy: 0.5000\n",
            "Epoch 3/20\n",
            "114/114 [==============================] - 20s 171ms/step - loss: -449816.8750 - accuracy: 0.5023 - val_loss: 1155193.3750 - val_accuracy: 0.5000\n",
            "Epoch 4/20\n",
            "114/114 [==============================] - 19s 169ms/step - loss: -1838766.0000 - accuracy: 0.5023 - val_loss: 3985368.2500 - val_accuracy: 0.5000\n",
            "Epoch 5/20\n",
            "114/114 [==============================] - 19s 167ms/step - loss: -5152265.5000 - accuracy: 0.5023 - val_loss: 9814444.0000 - val_accuracy: 0.5000\n",
            "Epoch 6/20\n",
            "114/114 [==============================] - 19s 165ms/step - loss: -11603476.0000 - accuracy: 0.5023 - val_loss: 20921374.0000 - val_accuracy: 0.5000\n",
            "Epoch 7/20\n",
            "114/114 [==============================] - 19s 168ms/step - loss: -22486480.0000 - accuracy: 0.5023 - val_loss: 38999888.0000 - val_accuracy: 0.5000\n",
            "Epoch 8/20\n",
            "114/114 [==============================] - 20s 177ms/step - loss: -39215016.0000 - accuracy: 0.5023 - val_loss: 64413640.0000 - val_accuracy: 0.5000\n",
            "Epoch 9/20\n",
            "114/114 [==============================] - 19s 166ms/step - loss: -63642272.0000 - accuracy: 0.5023 - val_loss: 102226536.0000 - val_accuracy: 0.5000\n",
            "Epoch 10/20\n",
            "114/114 [==============================] - 19s 166ms/step - loss: -96882720.0000 - accuracy: 0.5023 - val_loss: 151615584.0000 - val_accuracy: 0.5000\n",
            "Epoch 11/20\n",
            "114/114 [==============================] - 19s 165ms/step - loss: -140896384.0000 - accuracy: 0.5023 - val_loss: 212787664.0000 - val_accuracy: 0.5000\n",
            "Epoch 12/20\n",
            "114/114 [==============================] - 19s 165ms/step - loss: -197622704.0000 - accuracy: 0.5023 - val_loss: 297736224.0000 - val_accuracy: 0.5000\n",
            "Epoch 13/20\n",
            "114/114 [==============================] - 19s 166ms/step - loss: -268264176.0000 - accuracy: 0.5023 - val_loss: 398345376.0000 - val_accuracy: 0.5000\n",
            "Epoch 14/20\n",
            "114/114 [==============================] - 19s 165ms/step - loss: -355237568.0000 - accuracy: 0.5023 - val_loss: 516428544.0000 - val_accuracy: 0.5000\n",
            "Epoch 15/20\n",
            "114/114 [==============================] - 19s 165ms/step - loss: -459523104.0000 - accuracy: 0.5023 - val_loss: 670975936.0000 - val_accuracy: 0.5000\n",
            "Epoch 16/20\n",
            "114/114 [==============================] - 19s 166ms/step - loss: -582225600.0000 - accuracy: 0.5023 - val_loss: 839860416.0000 - val_accuracy: 0.5000\n",
            "Epoch 17/20\n",
            "114/114 [==============================] - 19s 165ms/step - loss: -725381312.0000 - accuracy: 0.5023 - val_loss: 1030071424.0000 - val_accuracy: 0.5000\n",
            "Epoch 18/20\n",
            "114/114 [==============================] - 19s 167ms/step - loss: -893208384.0000 - accuracy: 0.5023 - val_loss: 1264527744.0000 - val_accuracy: 0.5000\n",
            "Epoch 19/20\n",
            "114/114 [==============================] - 19s 168ms/step - loss: -1082896640.0000 - accuracy: 0.5023 - val_loss: 1514983296.0000 - val_accuracy: 0.5000\n",
            "Epoch 20/20\n",
            "114/114 [==============================] - 19s 168ms/step - loss: -1298429696.0000 - accuracy: 0.5023 - val_loss: 1839620224.0000 - val_accuracy: 0.5000\n"
          ]
        }
      ]
    },
    {
      "cell_type": "markdown",
      "source": [
        "The accuracy did not improve reason - only one image was used for augmenting, dataflow through directory could have been used for better augmentation but lack of time compelled me to make thsi code. Test is basically the same, and data is for 1 image thus model is biased for that particular image. "
      ],
      "metadata": {
        "id": "ROxvULmRfvhb"
      }
    },
    {
      "cell_type": "markdown",
      "source": [
        "## Convolution Neural Network with Augmented Data "
      ],
      "metadata": {
        "id": "r4-vJmgTgMmw"
      }
    },
    {
      "cell_type": "code",
      "source": [
        "j = 0 \n",
        "for data_batch, labels_batch in train_genrator:\n",
        "    print('data batch shape:', data_batch.shape)\n",
        "    print('labels batch shape:', labels_batch.shape)\n",
        "    break"
      ],
      "metadata": {
        "id": "mK7KNqKKeh1p",
        "colab": {
          "base_uri": "https://localhost:8080/"
        },
        "outputId": "90cbb0fb-a3ea-4cd7-f84a-f9bf7ed4ffa1"
      },
      "execution_count": null,
      "outputs": [
        {
          "output_type": "stream",
          "name": "stdout",
          "text": [
            "data batch shape: (20, 150, 150, 3)\n",
            "labels batch shape: (20,)\n"
          ]
        }
      ]
    },
    {
      "cell_type": "code",
      "source": [
        "model = Sequential()\n",
        "#building image \n",
        "model.add(Conv2D(32, (3, 3), activation='relu', input_shape=(150,150,3)))\n",
        "model.add(MaxPooling2D(pool_size=(2, 2)))\n",
        "model.add(Conv2D(64, (3, 3), activation='relu', input_shape=(150,150,3)))\n",
        "model.add(MaxPooling2D(pool_size=(2, 2)))\n",
        "model.add(Conv2D(128, (3, 3), activation='relu', input_shape=(150,150,3)))\n",
        "model.add(MaxPooling2D(pool_size=(2, 2)))\n",
        "model.add(Conv2D(128, (3, 3), activation='relu', input_shape=(150,150,3)))\n",
        "model.add(MaxPooling2D(pool_size=(2, 2)))\n",
        "model.add(Flatten())\n",
        "model.add(Dense(512,activation='relu'))\n",
        "model.add(Dense(1,activation='sigmoid'))"
      ],
      "metadata": {
        "id": "yByIYLeLggWi"
      },
      "execution_count": null,
      "outputs": []
    },
    {
      "cell_type": "code",
      "source": [
        "model.compile(loss= 'binary_crossentropy', optimizer= 'adam', metrics = ['accuracy'])"
      ],
      "metadata": {
        "id": "qMvI8xxQhCHY"
      },
      "execution_count": null,
      "outputs": []
    },
    {
      "cell_type": "code",
      "source": [
        "val= model.fit(train_genrator, steps_per_epoch= 30, validation_data= validation_generator, validation_steps=30, epochs= 20)"
      ],
      "metadata": {
        "id": "eo5O6mGRhFT1",
        "colab": {
          "base_uri": "https://localhost:8080/"
        },
        "outputId": "25c72341-9277-450b-e35b-ec3971b43993"
      },
      "execution_count": null,
      "outputs": [
        {
          "output_type": "stream",
          "name": "stdout",
          "text": [
            "Epoch 1/20\n",
            "30/30 [==============================] - ETA: 0s - loss: 0.7389 - accuracy: 0.5117"
          ]
        },
        {
          "output_type": "stream",
          "name": "stderr",
          "text": [
            "WARNING:tensorflow:Your input ran out of data; interrupting training. Make sure that your dataset or generator can generate at least `steps_per_epoch * epochs` batches (in this case, 30 batches). You may need to use the repeat() function when building your dataset.\n"
          ]
        },
        {
          "output_type": "stream",
          "name": "stdout",
          "text": [
            "\b\b\b\b\b\b\b\b\b\b\b\b\b\b\b\b\b\b\b\b\b\b\b\b\b\b\b\b\b\b\b\b\b\b\b\b\b\b\b\b\b\b\b\b\b\b\b\b\b\b\b\b\b\b\b\b\b\b\b\b\b\b\b\b\b\b\b\b\b\b\b\b\b\b\b\b\b\b\b\b\b\b\r30/30 [==============================] - 6s 162ms/step - loss: 0.7389 - accuracy: 0.5117 - val_loss: 0.6928 - val_accuracy: 0.5000\n",
            "Epoch 2/20\n",
            "30/30 [==============================] - 3s 93ms/step - loss: 0.6940 - accuracy: 0.5000\n",
            "Epoch 3/20\n",
            "30/30 [==============================] - 3s 93ms/step - loss: 0.6931 - accuracy: 0.4833\n",
            "Epoch 4/20\n",
            "30/30 [==============================] - 3s 93ms/step - loss: 0.6995 - accuracy: 0.5483\n",
            "Epoch 5/20\n",
            "30/30 [==============================] - 3s 95ms/step - loss: 0.6938 - accuracy: 0.4933\n",
            "Epoch 6/20\n",
            "30/30 [==============================] - 3s 93ms/step - loss: 0.6932 - accuracy: 0.4967\n",
            "Epoch 7/20\n",
            "30/30 [==============================] - 3s 93ms/step - loss: 0.6935 - accuracy: 0.5050\n",
            "Epoch 8/20\n",
            "30/30 [==============================] - 3s 92ms/step - loss: 0.6916 - accuracy: 0.5333\n",
            "Epoch 9/20\n",
            "30/30 [==============================] - 3s 93ms/step - loss: 0.6777 - accuracy: 0.5650\n",
            "Epoch 10/20\n",
            "30/30 [==============================] - 3s 92ms/step - loss: 0.6823 - accuracy: 0.5483\n",
            "Epoch 11/20\n",
            "30/30 [==============================] - 3s 93ms/step - loss: 0.6453 - accuracy: 0.5867\n",
            "Epoch 12/20\n",
            "30/30 [==============================] - 3s 94ms/step - loss: 0.6038 - accuracy: 0.6800\n",
            "Epoch 13/20\n",
            "30/30 [==============================] - 3s 92ms/step - loss: 0.5522 - accuracy: 0.7067\n",
            "Epoch 14/20\n",
            "30/30 [==============================] - 3s 107ms/step - loss: 0.5156 - accuracy: 0.7217\n",
            "Epoch 15/20\n",
            "30/30 [==============================] - 3s 102ms/step - loss: 0.4256 - accuracy: 0.7900\n",
            "Epoch 16/20\n",
            "30/30 [==============================] - 3s 92ms/step - loss: 0.3611 - accuracy: 0.8350\n",
            "Epoch 17/20\n",
            "30/30 [==============================] - 3s 92ms/step - loss: 0.3241 - accuracy: 0.8550\n",
            "Epoch 18/20\n",
            "30/30 [==============================] - 3s 104ms/step - loss: 0.2142 - accuracy: 0.9150\n",
            "Epoch 19/20\n",
            "30/30 [==============================] - 3s 94ms/step - loss: 0.1357 - accuracy: 0.9483\n",
            "Epoch 20/20\n",
            "30/30 [==============================] - 3s 92ms/step - loss: 0.0727 - accuracy: 0.9750\n"
          ]
        }
      ]
    },
    {
      "cell_type": "markdown",
      "source": [
        "CNN accuracy with augmented image was noted to be 97.5% "
      ],
      "metadata": {
        "id": "783TkYLxsGSE"
      }
    },
    {
      "cell_type": "markdown",
      "source": [
        "# Question 4 - data stored in seperate folder named Data_4. Augmented using Roboflow "
      ],
      "metadata": {
        "id": "gT1r70zdxsfZ"
      }
    },
    {
      "cell_type": "markdown",
      "source": [
        "# Question 5"
      ],
      "metadata": {
        "id": "sEYMYx4QxqHH"
      }
    },
    {
      "cell_type": "code",
      "source": [
        "import torch\n",
        "import torch.nn as nn\n",
        "import torch.nn.functional as F\n",
        "import torch.optim as optim"
      ],
      "metadata": {
        "id": "4NNjo59Hqt-h"
      },
      "execution_count": 55,
      "outputs": []
    },
    {
      "cell_type": "code",
      "source": [
        "class Net(nn.Module):\n",
        "    def __init__(self):\n",
        "        super(Net, self).__init__()\n",
        "        self.conv1 = nn.Conv2d(3, 6, 5)\n",
        "        self.pool = nn.MaxPool2d(2, 2)\n",
        "        self.conv2 = nn.Conv2d(6, 16, 5)\n",
        "        self.fc1 = nn.Linear(16 * 5 * 5, 120)\n",
        "        self.fc2 = nn.Linear(120, 84)\n",
        "        self.fc3 = nn.Linear(84, 10)\n",
        "\n",
        "    def forward(self, x):\n",
        "        x = self.pool(F.relu(self.conv1(x)))\n",
        "        print('one', x.shape)\n",
        "        x = self.pool(F.relu(self.conv2(x)))\n",
        "        print('two', x.shape)\n",
        "        x = x.view(-1, 16 * 5 * 5)\n",
        "        x = F.relu(self.fc1(x))\n",
        "        x = F.relu(self.fc2(x))\n",
        "        x = self.fc3(x)\n",
        "        return x\n",
        "\n",
        "net = Net()\n",
        "print(net)"
      ],
      "metadata": {
        "colab": {
          "base_uri": "https://localhost:8080/"
        },
        "id": "RJY_ChcGx3f-",
        "outputId": "21942c2e-5bec-44f8-ba08-3e1335f31fcf"
      },
      "execution_count": 105,
      "outputs": [
        {
          "output_type": "stream",
          "name": "stdout",
          "text": [
            "Net(\n",
            "  (conv1): Conv2d(3, 6, kernel_size=(5, 5), stride=(1, 1))\n",
            "  (pool): MaxPool2d(kernel_size=2, stride=2, padding=0, dilation=1, ceil_mode=False)\n",
            "  (conv2): Conv2d(6, 16, kernel_size=(5, 5), stride=(1, 1))\n",
            "  (fc1): Linear(in_features=400, out_features=120, bias=True)\n",
            "  (fc2): Linear(in_features=120, out_features=84, bias=True)\n",
            "  (fc3): Linear(in_features=84, out_features=10, bias=True)\n",
            ")\n"
          ]
        }
      ]
    },
    {
      "cell_type": "code",
      "source": [
        "optimizer = optim.SGD(net.parameters(), lr=0.001, momentum=0.9)"
      ],
      "metadata": {
        "id": "HVI3ztWrx8B4"
      },
      "execution_count": 57,
      "outputs": []
    },
    {
      "cell_type": "code",
      "source": [
        "# Additional information\n",
        "EPOCH = 5\n",
        "PATH = \"model.pt\"\n",
        "LOSS = 0.4\n",
        "\n",
        "torch.save({\n",
        "            'epoch': EPOCH,\n",
        "            'model_state_dict': net.state_dict(),\n",
        "            'optimizer_state_dict': optimizer.state_dict(),\n",
        "            'loss': LOSS,\n",
        "            }, PATH)"
      ],
      "metadata": {
        "id": "Gawq6Eq-x-kU"
      },
      "execution_count": 58,
      "outputs": []
    },
    {
      "cell_type": "code",
      "source": [
        "model = Net()\n",
        "optimizer = optim.SGD(net.parameters(), lr=0.001, momentum=0.9)\n",
        "\n",
        "checkpoint = torch.load(PATH)\n",
        "model.load_state_dict(checkpoint['model_state_dict'])\n",
        "optimizer.load_state_dict(checkpoint['optimizer_state_dict'])\n",
        "epoch = checkpoint['epoch']\n",
        "loss = checkpoint['loss']\n",
        "\n",
        "model.eval()\n",
        "# - or -\n",
        "model.train()"
      ],
      "metadata": {
        "colab": {
          "base_uri": "https://localhost:8080/"
        },
        "id": "dFjdPqzqyBC1",
        "outputId": "d47efd09-8604-4ff3-889a-e62cf9d6a62c"
      },
      "execution_count": 59,
      "outputs": [
        {
          "output_type": "execute_result",
          "data": {
            "text/plain": [
              "Net(\n",
              "  (conv1): Conv2d(3, 6, kernel_size=(5, 5), stride=(1, 1))\n",
              "  (pool): MaxPool2d(kernel_size=2, stride=2, padding=0, dilation=1, ceil_mode=False)\n",
              "  (conv2): Conv2d(6, 16, kernel_size=(5, 5), stride=(1, 1))\n",
              "  (fc1): Linear(in_features=400, out_features=120, bias=True)\n",
              "  (fc2): Linear(in_features=120, out_features=84, bias=True)\n",
              "  (fc3): Linear(in_features=84, out_features=10, bias=True)\n",
              ")"
            ]
          },
          "metadata": {},
          "execution_count": 59
        }
      ]
    },
    {
      "cell_type": "code",
      "source": [
        "dummy_input = torch.randn(3, 3, 5,10)\n",
        "input_names = [ \"actual_input\" ]\n",
        "output_names = [ \"output\" ]"
      ],
      "metadata": {
        "id": "64gKfv50zxzK"
      },
      "execution_count": 133,
      "outputs": []
    },
    {
      "cell_type": "code",
      "source": [
        "torch.onnx.export(model,\n",
        "                 dummy_input,\n",
        "                 \"model.onnx\",\n",
        "                 verbose=False,\n",
        "                 input_names=input_names,\n",
        "                 output_names=output_names,\n",
        "                 export_params=True,\n",
        "                 )"
      ],
      "metadata": {
        "colab": {
          "base_uri": "https://localhost:8080/",
          "height": 397
        },
        "id": "GdyE3ZSyyGFs",
        "outputId": "cee1dbea-4b09-4cdc-b5e0-19089b489a58"
      },
      "execution_count": 134,
      "outputs": [
        {
          "output_type": "error",
          "ename": "RuntimeError",
          "evalue": "ignored",
          "traceback": [
            "\u001b[0;31m---------------------------------------------------------------------------\u001b[0m",
            "\u001b[0;31mRuntimeError\u001b[0m                              Traceback (most recent call last)",
            "\u001b[0;32m<ipython-input-134-9282a3a578e8>\u001b[0m in \u001b[0;36m<module>\u001b[0;34m\u001b[0m\n\u001b[0;32m----> 1\u001b[0;31m torch.onnx.export(model,\n\u001b[0m\u001b[1;32m      2\u001b[0m                  \u001b[0mdummy_input\u001b[0m\u001b[0;34m,\u001b[0m\u001b[0;34m\u001b[0m\u001b[0;34m\u001b[0m\u001b[0m\n\u001b[1;32m      3\u001b[0m                  \u001b[0;34m\"model.onnx\"\u001b[0m\u001b[0;34m,\u001b[0m\u001b[0;34m\u001b[0m\u001b[0;34m\u001b[0m\u001b[0m\n\u001b[1;32m      4\u001b[0m                  \u001b[0mverbose\u001b[0m\u001b[0;34m=\u001b[0m\u001b[0;32mFalse\u001b[0m\u001b[0;34m,\u001b[0m\u001b[0;34m\u001b[0m\u001b[0;34m\u001b[0m\u001b[0m\n\u001b[1;32m      5\u001b[0m                  \u001b[0minput_names\u001b[0m\u001b[0;34m=\u001b[0m\u001b[0minput_names\u001b[0m\u001b[0;34m,\u001b[0m\u001b[0;34m\u001b[0m\u001b[0;34m\u001b[0m\u001b[0m\n",
            "\u001b[0;32m/usr/local/lib/python3.8/dist-packages/torch/onnx/utils.py\u001b[0m in \u001b[0;36mexport\u001b[0;34m(model, args, f, export_params, verbose, training, input_names, output_names, operator_export_type, opset_version, do_constant_folding, dynamic_axes, keep_initializers_as_inputs, custom_opsets, export_modules_as_functions)\u001b[0m\n\u001b[1;32m    502\u001b[0m     \"\"\"\n\u001b[1;32m    503\u001b[0m \u001b[0;34m\u001b[0m\u001b[0m\n\u001b[0;32m--> 504\u001b[0;31m     _export(\n\u001b[0m\u001b[1;32m    505\u001b[0m         \u001b[0mmodel\u001b[0m\u001b[0;34m,\u001b[0m\u001b[0;34m\u001b[0m\u001b[0;34m\u001b[0m\u001b[0m\n\u001b[1;32m    506\u001b[0m         \u001b[0margs\u001b[0m\u001b[0;34m,\u001b[0m\u001b[0;34m\u001b[0m\u001b[0;34m\u001b[0m\u001b[0m\n",
            "\u001b[0;32m/usr/local/lib/python3.8/dist-packages/torch/onnx/utils.py\u001b[0m in \u001b[0;36m_export\u001b[0;34m(model, args, f, export_params, verbose, training, input_names, output_names, operator_export_type, export_type, opset_version, do_constant_folding, dynamic_axes, keep_initializers_as_inputs, fixed_batch_size, custom_opsets, add_node_names, onnx_shape_inference, export_modules_as_functions)\u001b[0m\n\u001b[1;32m   1527\u001b[0m             \u001b[0m_validate_dynamic_axes\u001b[0m\u001b[0;34m(\u001b[0m\u001b[0mdynamic_axes\u001b[0m\u001b[0;34m,\u001b[0m \u001b[0mmodel\u001b[0m\u001b[0;34m,\u001b[0m \u001b[0minput_names\u001b[0m\u001b[0;34m,\u001b[0m \u001b[0moutput_names\u001b[0m\u001b[0;34m)\u001b[0m\u001b[0;34m\u001b[0m\u001b[0;34m\u001b[0m\u001b[0m\n\u001b[1;32m   1528\u001b[0m \u001b[0;34m\u001b[0m\u001b[0m\n\u001b[0;32m-> 1529\u001b[0;31m             graph, params_dict, torch_out = _model_to_graph(\n\u001b[0m\u001b[1;32m   1530\u001b[0m                 \u001b[0mmodel\u001b[0m\u001b[0;34m,\u001b[0m\u001b[0;34m\u001b[0m\u001b[0;34m\u001b[0m\u001b[0m\n\u001b[1;32m   1531\u001b[0m                 \u001b[0margs\u001b[0m\u001b[0;34m,\u001b[0m\u001b[0;34m\u001b[0m\u001b[0;34m\u001b[0m\u001b[0m\n",
            "\u001b[0;32m/usr/local/lib/python3.8/dist-packages/torch/onnx/utils.py\u001b[0m in \u001b[0;36m_model_to_graph\u001b[0;34m(model, args, verbose, input_names, output_names, operator_export_type, do_constant_folding, _disable_torch_constant_prop, fixed_batch_size, training, dynamic_axes)\u001b[0m\n\u001b[1;32m   1109\u001b[0m \u001b[0;34m\u001b[0m\u001b[0m\n\u001b[1;32m   1110\u001b[0m     \u001b[0mmodel\u001b[0m \u001b[0;34m=\u001b[0m \u001b[0m_pre_trace_quant_model\u001b[0m\u001b[0;34m(\u001b[0m\u001b[0mmodel\u001b[0m\u001b[0;34m,\u001b[0m \u001b[0margs\u001b[0m\u001b[0;34m)\u001b[0m\u001b[0;34m\u001b[0m\u001b[0;34m\u001b[0m\u001b[0m\n\u001b[0;32m-> 1111\u001b[0;31m     \u001b[0mgraph\u001b[0m\u001b[0;34m,\u001b[0m \u001b[0mparams\u001b[0m\u001b[0;34m,\u001b[0m \u001b[0mtorch_out\u001b[0m\u001b[0;34m,\u001b[0m \u001b[0mmodule\u001b[0m \u001b[0;34m=\u001b[0m \u001b[0m_create_jit_graph\u001b[0m\u001b[0;34m(\u001b[0m\u001b[0mmodel\u001b[0m\u001b[0;34m,\u001b[0m \u001b[0margs\u001b[0m\u001b[0;34m)\u001b[0m\u001b[0;34m\u001b[0m\u001b[0;34m\u001b[0m\u001b[0m\n\u001b[0m\u001b[1;32m   1112\u001b[0m     \u001b[0mparams_dict\u001b[0m \u001b[0;34m=\u001b[0m \u001b[0m_get_named_param_dict\u001b[0m\u001b[0;34m(\u001b[0m\u001b[0mgraph\u001b[0m\u001b[0;34m,\u001b[0m \u001b[0mparams\u001b[0m\u001b[0;34m)\u001b[0m\u001b[0;34m\u001b[0m\u001b[0;34m\u001b[0m\u001b[0m\n\u001b[1;32m   1113\u001b[0m \u001b[0;34m\u001b[0m\u001b[0m\n",
            "\u001b[0;32m/usr/local/lib/python3.8/dist-packages/torch/onnx/utils.py\u001b[0m in \u001b[0;36m_create_jit_graph\u001b[0;34m(model, args)\u001b[0m\n\u001b[1;32m    985\u001b[0m         \u001b[0;32mreturn\u001b[0m \u001b[0mgraph\u001b[0m\u001b[0;34m,\u001b[0m \u001b[0mparams\u001b[0m\u001b[0;34m,\u001b[0m \u001b[0mtorch_out\u001b[0m\u001b[0;34m,\u001b[0m \u001b[0;32mNone\u001b[0m\u001b[0;34m\u001b[0m\u001b[0;34m\u001b[0m\u001b[0m\n\u001b[1;32m    986\u001b[0m \u001b[0;34m\u001b[0m\u001b[0m\n\u001b[0;32m--> 987\u001b[0;31m     \u001b[0mgraph\u001b[0m\u001b[0;34m,\u001b[0m \u001b[0mtorch_out\u001b[0m \u001b[0;34m=\u001b[0m \u001b[0m_trace_and_get_graph_from_model\u001b[0m\u001b[0;34m(\u001b[0m\u001b[0mmodel\u001b[0m\u001b[0;34m,\u001b[0m \u001b[0margs\u001b[0m\u001b[0;34m)\u001b[0m\u001b[0;34m\u001b[0m\u001b[0;34m\u001b[0m\u001b[0m\n\u001b[0m\u001b[1;32m    988\u001b[0m     \u001b[0m_C\u001b[0m\u001b[0;34m.\u001b[0m\u001b[0m_jit_pass_onnx_lint\u001b[0m\u001b[0;34m(\u001b[0m\u001b[0mgraph\u001b[0m\u001b[0;34m)\u001b[0m\u001b[0;34m\u001b[0m\u001b[0;34m\u001b[0m\u001b[0m\n\u001b[1;32m    989\u001b[0m     \u001b[0mstate_dict\u001b[0m \u001b[0;34m=\u001b[0m \u001b[0mtorch\u001b[0m\u001b[0;34m.\u001b[0m\u001b[0mjit\u001b[0m\u001b[0;34m.\u001b[0m\u001b[0m_unique_state_dict\u001b[0m\u001b[0;34m(\u001b[0m\u001b[0mmodel\u001b[0m\u001b[0;34m)\u001b[0m\u001b[0;34m\u001b[0m\u001b[0;34m\u001b[0m\u001b[0m\n",
            "\u001b[0;32m/usr/local/lib/python3.8/dist-packages/torch/onnx/utils.py\u001b[0m in \u001b[0;36m_trace_and_get_graph_from_model\u001b[0;34m(model, args)\u001b[0m\n\u001b[1;32m    889\u001b[0m     \u001b[0mprev_autocast_cache_enabled\u001b[0m \u001b[0;34m=\u001b[0m \u001b[0mtorch\u001b[0m\u001b[0;34m.\u001b[0m\u001b[0mis_autocast_cache_enabled\u001b[0m\u001b[0;34m(\u001b[0m\u001b[0;34m)\u001b[0m\u001b[0;34m\u001b[0m\u001b[0;34m\u001b[0m\u001b[0m\n\u001b[1;32m    890\u001b[0m     \u001b[0mtorch\u001b[0m\u001b[0;34m.\u001b[0m\u001b[0mset_autocast_cache_enabled\u001b[0m\u001b[0;34m(\u001b[0m\u001b[0;32mFalse\u001b[0m\u001b[0;34m)\u001b[0m\u001b[0;34m\u001b[0m\u001b[0;34m\u001b[0m\u001b[0m\n\u001b[0;32m--> 891\u001b[0;31m     trace_graph, torch_out, inputs_states = torch.jit._get_trace_graph(\n\u001b[0m\u001b[1;32m    892\u001b[0m         \u001b[0mmodel\u001b[0m\u001b[0;34m,\u001b[0m\u001b[0;34m\u001b[0m\u001b[0;34m\u001b[0m\u001b[0m\n\u001b[1;32m    893\u001b[0m         \u001b[0margs\u001b[0m\u001b[0;34m,\u001b[0m\u001b[0;34m\u001b[0m\u001b[0;34m\u001b[0m\u001b[0m\n",
            "\u001b[0;32m/usr/local/lib/python3.8/dist-packages/torch/jit/_trace.py\u001b[0m in \u001b[0;36m_get_trace_graph\u001b[0;34m(f, args, kwargs, strict, _force_outplace, return_inputs, _return_inputs_states)\u001b[0m\n\u001b[1;32m   1182\u001b[0m     \u001b[0;32mif\u001b[0m \u001b[0;32mnot\u001b[0m \u001b[0misinstance\u001b[0m\u001b[0;34m(\u001b[0m\u001b[0margs\u001b[0m\u001b[0;34m,\u001b[0m \u001b[0mtuple\u001b[0m\u001b[0;34m)\u001b[0m\u001b[0;34m:\u001b[0m\u001b[0;34m\u001b[0m\u001b[0;34m\u001b[0m\u001b[0m\n\u001b[1;32m   1183\u001b[0m         \u001b[0margs\u001b[0m \u001b[0;34m=\u001b[0m \u001b[0;34m(\u001b[0m\u001b[0margs\u001b[0m\u001b[0;34m,\u001b[0m\u001b[0;34m)\u001b[0m\u001b[0;34m\u001b[0m\u001b[0;34m\u001b[0m\u001b[0m\n\u001b[0;32m-> 1184\u001b[0;31m     \u001b[0mouts\u001b[0m \u001b[0;34m=\u001b[0m \u001b[0mONNXTracedModule\u001b[0m\u001b[0;34m(\u001b[0m\u001b[0mf\u001b[0m\u001b[0;34m,\u001b[0m \u001b[0mstrict\u001b[0m\u001b[0;34m,\u001b[0m \u001b[0m_force_outplace\u001b[0m\u001b[0;34m,\u001b[0m \u001b[0mreturn_inputs\u001b[0m\u001b[0;34m,\u001b[0m \u001b[0m_return_inputs_states\u001b[0m\u001b[0;34m)\u001b[0m\u001b[0;34m(\u001b[0m\u001b[0;34m*\u001b[0m\u001b[0margs\u001b[0m\u001b[0;34m,\u001b[0m \u001b[0;34m**\u001b[0m\u001b[0mkwargs\u001b[0m\u001b[0;34m)\u001b[0m\u001b[0;34m\u001b[0m\u001b[0;34m\u001b[0m\u001b[0m\n\u001b[0m\u001b[1;32m   1185\u001b[0m     \u001b[0;32mreturn\u001b[0m \u001b[0mouts\u001b[0m\u001b[0;34m\u001b[0m\u001b[0;34m\u001b[0m\u001b[0m\n",
            "\u001b[0;32m/usr/local/lib/python3.8/dist-packages/torch/nn/modules/module.py\u001b[0m in \u001b[0;36m_call_impl\u001b[0;34m(self, *input, **kwargs)\u001b[0m\n\u001b[1;32m   1188\u001b[0m         if not (self._backward_hooks or self._forward_hooks or self._forward_pre_hooks or _global_backward_hooks\n\u001b[1;32m   1189\u001b[0m                 or _global_forward_hooks or _global_forward_pre_hooks):\n\u001b[0;32m-> 1190\u001b[0;31m             \u001b[0;32mreturn\u001b[0m \u001b[0mforward_call\u001b[0m\u001b[0;34m(\u001b[0m\u001b[0;34m*\u001b[0m\u001b[0minput\u001b[0m\u001b[0;34m,\u001b[0m \u001b[0;34m**\u001b[0m\u001b[0mkwargs\u001b[0m\u001b[0;34m)\u001b[0m\u001b[0;34m\u001b[0m\u001b[0;34m\u001b[0m\u001b[0m\n\u001b[0m\u001b[1;32m   1191\u001b[0m         \u001b[0;31m# Do not call functions when jit is used\u001b[0m\u001b[0;34m\u001b[0m\u001b[0;34m\u001b[0m\u001b[0;34m\u001b[0m\u001b[0m\n\u001b[1;32m   1192\u001b[0m         \u001b[0mfull_backward_hooks\u001b[0m\u001b[0;34m,\u001b[0m \u001b[0mnon_full_backward_hooks\u001b[0m \u001b[0;34m=\u001b[0m \u001b[0;34m[\u001b[0m\u001b[0;34m]\u001b[0m\u001b[0;34m,\u001b[0m \u001b[0;34m[\u001b[0m\u001b[0;34m]\u001b[0m\u001b[0;34m\u001b[0m\u001b[0;34m\u001b[0m\u001b[0m\n",
            "\u001b[0;32m/usr/local/lib/python3.8/dist-packages/torch/jit/_trace.py\u001b[0m in \u001b[0;36mforward\u001b[0;34m(self, *args)\u001b[0m\n\u001b[1;32m    125\u001b[0m                 \u001b[0;32mreturn\u001b[0m \u001b[0mtuple\u001b[0m\u001b[0;34m(\u001b[0m\u001b[0mout_vars\u001b[0m\u001b[0;34m)\u001b[0m\u001b[0;34m\u001b[0m\u001b[0;34m\u001b[0m\u001b[0m\n\u001b[1;32m    126\u001b[0m \u001b[0;34m\u001b[0m\u001b[0m\n\u001b[0;32m--> 127\u001b[0;31m         graph, out = torch._C._create_graph_by_tracing(\n\u001b[0m\u001b[1;32m    128\u001b[0m             \u001b[0mwrapper\u001b[0m\u001b[0;34m,\u001b[0m\u001b[0;34m\u001b[0m\u001b[0;34m\u001b[0m\u001b[0m\n\u001b[1;32m    129\u001b[0m             \u001b[0min_vars\u001b[0m \u001b[0;34m+\u001b[0m \u001b[0mmodule_state\u001b[0m\u001b[0;34m,\u001b[0m\u001b[0;34m\u001b[0m\u001b[0;34m\u001b[0m\u001b[0m\n",
            "\u001b[0;32m/usr/local/lib/python3.8/dist-packages/torch/jit/_trace.py\u001b[0m in \u001b[0;36mwrapper\u001b[0;34m(*args)\u001b[0m\n\u001b[1;32m    116\u001b[0m             \u001b[0;32mif\u001b[0m \u001b[0mself\u001b[0m\u001b[0;34m.\u001b[0m\u001b[0m_return_inputs_states\u001b[0m\u001b[0;34m:\u001b[0m\u001b[0;34m\u001b[0m\u001b[0;34m\u001b[0m\u001b[0m\n\u001b[1;32m    117\u001b[0m                 \u001b[0minputs_states\u001b[0m\u001b[0;34m.\u001b[0m\u001b[0mappend\u001b[0m\u001b[0;34m(\u001b[0m\u001b[0m_unflatten\u001b[0m\u001b[0;34m(\u001b[0m\u001b[0min_args\u001b[0m\u001b[0;34m,\u001b[0m \u001b[0min_desc\u001b[0m\u001b[0;34m)\u001b[0m\u001b[0;34m)\u001b[0m\u001b[0;34m\u001b[0m\u001b[0;34m\u001b[0m\u001b[0m\n\u001b[0;32m--> 118\u001b[0;31m             \u001b[0mouts\u001b[0m\u001b[0;34m.\u001b[0m\u001b[0mappend\u001b[0m\u001b[0;34m(\u001b[0m\u001b[0mself\u001b[0m\u001b[0;34m.\u001b[0m\u001b[0minner\u001b[0m\u001b[0;34m(\u001b[0m\u001b[0;34m*\u001b[0m\u001b[0mtrace_inputs\u001b[0m\u001b[0;34m)\u001b[0m\u001b[0;34m)\u001b[0m\u001b[0;34m\u001b[0m\u001b[0;34m\u001b[0m\u001b[0m\n\u001b[0m\u001b[1;32m    119\u001b[0m             \u001b[0;32mif\u001b[0m \u001b[0mself\u001b[0m\u001b[0;34m.\u001b[0m\u001b[0m_return_inputs_states\u001b[0m\u001b[0;34m:\u001b[0m\u001b[0;34m\u001b[0m\u001b[0;34m\u001b[0m\u001b[0m\n\u001b[1;32m    120\u001b[0m                 \u001b[0minputs_states\u001b[0m\u001b[0;34m[\u001b[0m\u001b[0;36m0\u001b[0m\u001b[0;34m]\u001b[0m \u001b[0;34m=\u001b[0m \u001b[0;34m(\u001b[0m\u001b[0minputs_states\u001b[0m\u001b[0;34m[\u001b[0m\u001b[0;36m0\u001b[0m\u001b[0;34m]\u001b[0m\u001b[0;34m,\u001b[0m \u001b[0mtrace_inputs\u001b[0m\u001b[0;34m)\u001b[0m\u001b[0;34m\u001b[0m\u001b[0;34m\u001b[0m\u001b[0m\n",
            "\u001b[0;32m/usr/local/lib/python3.8/dist-packages/torch/nn/modules/module.py\u001b[0m in \u001b[0;36m_call_impl\u001b[0;34m(self, *input, **kwargs)\u001b[0m\n\u001b[1;32m   1188\u001b[0m         if not (self._backward_hooks or self._forward_hooks or self._forward_pre_hooks or _global_backward_hooks\n\u001b[1;32m   1189\u001b[0m                 or _global_forward_hooks or _global_forward_pre_hooks):\n\u001b[0;32m-> 1190\u001b[0;31m             \u001b[0;32mreturn\u001b[0m \u001b[0mforward_call\u001b[0m\u001b[0;34m(\u001b[0m\u001b[0;34m*\u001b[0m\u001b[0minput\u001b[0m\u001b[0;34m,\u001b[0m \u001b[0;34m**\u001b[0m\u001b[0mkwargs\u001b[0m\u001b[0;34m)\u001b[0m\u001b[0;34m\u001b[0m\u001b[0;34m\u001b[0m\u001b[0m\n\u001b[0m\u001b[1;32m   1191\u001b[0m         \u001b[0;31m# Do not call functions when jit is used\u001b[0m\u001b[0;34m\u001b[0m\u001b[0;34m\u001b[0m\u001b[0;34m\u001b[0m\u001b[0m\n\u001b[1;32m   1192\u001b[0m         \u001b[0mfull_backward_hooks\u001b[0m\u001b[0;34m,\u001b[0m \u001b[0mnon_full_backward_hooks\u001b[0m \u001b[0;34m=\u001b[0m \u001b[0;34m[\u001b[0m\u001b[0;34m]\u001b[0m\u001b[0;34m,\u001b[0m \u001b[0;34m[\u001b[0m\u001b[0;34m]\u001b[0m\u001b[0;34m\u001b[0m\u001b[0;34m\u001b[0m\u001b[0m\n",
            "\u001b[0;32m/usr/local/lib/python3.8/dist-packages/torch/nn/modules/module.py\u001b[0m in \u001b[0;36m_slow_forward\u001b[0;34m(self, *input, **kwargs)\u001b[0m\n\u001b[1;32m   1176\u001b[0m                 \u001b[0mrecording_scopes\u001b[0m \u001b[0;34m=\u001b[0m \u001b[0;32mFalse\u001b[0m\u001b[0;34m\u001b[0m\u001b[0;34m\u001b[0m\u001b[0m\n\u001b[1;32m   1177\u001b[0m         \u001b[0;32mtry\u001b[0m\u001b[0;34m:\u001b[0m\u001b[0;34m\u001b[0m\u001b[0;34m\u001b[0m\u001b[0m\n\u001b[0;32m-> 1178\u001b[0;31m             \u001b[0mresult\u001b[0m \u001b[0;34m=\u001b[0m \u001b[0mself\u001b[0m\u001b[0;34m.\u001b[0m\u001b[0mforward\u001b[0m\u001b[0;34m(\u001b[0m\u001b[0;34m*\u001b[0m\u001b[0minput\u001b[0m\u001b[0;34m,\u001b[0m \u001b[0;34m**\u001b[0m\u001b[0mkwargs\u001b[0m\u001b[0;34m)\u001b[0m\u001b[0;34m\u001b[0m\u001b[0;34m\u001b[0m\u001b[0m\n\u001b[0m\u001b[1;32m   1179\u001b[0m         \u001b[0;32mfinally\u001b[0m\u001b[0;34m:\u001b[0m\u001b[0;34m\u001b[0m\u001b[0;34m\u001b[0m\u001b[0m\n\u001b[1;32m   1180\u001b[0m             \u001b[0;32mif\u001b[0m \u001b[0mrecording_scopes\u001b[0m\u001b[0;34m:\u001b[0m\u001b[0;34m\u001b[0m\u001b[0;34m\u001b[0m\u001b[0m\n",
            "\u001b[0;32m<ipython-input-56-d818a9bc16ca>\u001b[0m in \u001b[0;36mforward\u001b[0;34m(self, x)\u001b[0m\n\u001b[1;32m     10\u001b[0m \u001b[0;34m\u001b[0m\u001b[0m\n\u001b[1;32m     11\u001b[0m     \u001b[0;32mdef\u001b[0m \u001b[0mforward\u001b[0m\u001b[0;34m(\u001b[0m\u001b[0mself\u001b[0m\u001b[0;34m,\u001b[0m \u001b[0mx\u001b[0m\u001b[0;34m)\u001b[0m\u001b[0;34m:\u001b[0m\u001b[0;34m\u001b[0m\u001b[0;34m\u001b[0m\u001b[0m\n\u001b[0;32m---> 12\u001b[0;31m         \u001b[0mx\u001b[0m \u001b[0;34m=\u001b[0m \u001b[0mself\u001b[0m\u001b[0;34m.\u001b[0m\u001b[0mpool\u001b[0m\u001b[0;34m(\u001b[0m\u001b[0mF\u001b[0m\u001b[0;34m.\u001b[0m\u001b[0mrelu\u001b[0m\u001b[0;34m(\u001b[0m\u001b[0mself\u001b[0m\u001b[0;34m.\u001b[0m\u001b[0mconv1\u001b[0m\u001b[0;34m(\u001b[0m\u001b[0mx\u001b[0m\u001b[0;34m)\u001b[0m\u001b[0;34m)\u001b[0m\u001b[0;34m)\u001b[0m\u001b[0;34m\u001b[0m\u001b[0;34m\u001b[0m\u001b[0m\n\u001b[0m\u001b[1;32m     13\u001b[0m         \u001b[0mx\u001b[0m \u001b[0;34m=\u001b[0m \u001b[0mself\u001b[0m\u001b[0;34m.\u001b[0m\u001b[0mpool\u001b[0m\u001b[0;34m(\u001b[0m\u001b[0mF\u001b[0m\u001b[0;34m.\u001b[0m\u001b[0mrelu\u001b[0m\u001b[0;34m(\u001b[0m\u001b[0mself\u001b[0m\u001b[0;34m.\u001b[0m\u001b[0mconv2\u001b[0m\u001b[0;34m(\u001b[0m\u001b[0mx\u001b[0m\u001b[0;34m)\u001b[0m\u001b[0;34m)\u001b[0m\u001b[0;34m)\u001b[0m\u001b[0;34m\u001b[0m\u001b[0;34m\u001b[0m\u001b[0m\n\u001b[1;32m     14\u001b[0m         \u001b[0mx\u001b[0m \u001b[0;34m=\u001b[0m \u001b[0mx\u001b[0m\u001b[0;34m.\u001b[0m\u001b[0mview\u001b[0m\u001b[0;34m(\u001b[0m\u001b[0;34m-\u001b[0m\u001b[0;36m1\u001b[0m\u001b[0;34m,\u001b[0m \u001b[0;36m16\u001b[0m \u001b[0;34m*\u001b[0m \u001b[0;36m5\u001b[0m \u001b[0;34m*\u001b[0m \u001b[0;36m5\u001b[0m\u001b[0;34m)\u001b[0m\u001b[0;34m\u001b[0m\u001b[0;34m\u001b[0m\u001b[0m\n",
            "\u001b[0;32m/usr/local/lib/python3.8/dist-packages/torch/nn/modules/module.py\u001b[0m in \u001b[0;36m_call_impl\u001b[0;34m(self, *input, **kwargs)\u001b[0m\n\u001b[1;32m   1188\u001b[0m         if not (self._backward_hooks or self._forward_hooks or self._forward_pre_hooks or _global_backward_hooks\n\u001b[1;32m   1189\u001b[0m                 or _global_forward_hooks or _global_forward_pre_hooks):\n\u001b[0;32m-> 1190\u001b[0;31m             \u001b[0;32mreturn\u001b[0m \u001b[0mforward_call\u001b[0m\u001b[0;34m(\u001b[0m\u001b[0;34m*\u001b[0m\u001b[0minput\u001b[0m\u001b[0;34m,\u001b[0m \u001b[0;34m**\u001b[0m\u001b[0mkwargs\u001b[0m\u001b[0;34m)\u001b[0m\u001b[0;34m\u001b[0m\u001b[0;34m\u001b[0m\u001b[0m\n\u001b[0m\u001b[1;32m   1191\u001b[0m         \u001b[0;31m# Do not call functions when jit is used\u001b[0m\u001b[0;34m\u001b[0m\u001b[0;34m\u001b[0m\u001b[0;34m\u001b[0m\u001b[0m\n\u001b[1;32m   1192\u001b[0m         \u001b[0mfull_backward_hooks\u001b[0m\u001b[0;34m,\u001b[0m \u001b[0mnon_full_backward_hooks\u001b[0m \u001b[0;34m=\u001b[0m \u001b[0;34m[\u001b[0m\u001b[0;34m]\u001b[0m\u001b[0;34m,\u001b[0m \u001b[0;34m[\u001b[0m\u001b[0;34m]\u001b[0m\u001b[0;34m\u001b[0m\u001b[0;34m\u001b[0m\u001b[0m\n",
            "\u001b[0;32m/usr/local/lib/python3.8/dist-packages/torch/nn/modules/module.py\u001b[0m in \u001b[0;36m_slow_forward\u001b[0;34m(self, *input, **kwargs)\u001b[0m\n\u001b[1;32m   1176\u001b[0m                 \u001b[0mrecording_scopes\u001b[0m \u001b[0;34m=\u001b[0m \u001b[0;32mFalse\u001b[0m\u001b[0;34m\u001b[0m\u001b[0;34m\u001b[0m\u001b[0m\n\u001b[1;32m   1177\u001b[0m         \u001b[0;32mtry\u001b[0m\u001b[0;34m:\u001b[0m\u001b[0;34m\u001b[0m\u001b[0;34m\u001b[0m\u001b[0m\n\u001b[0;32m-> 1178\u001b[0;31m             \u001b[0mresult\u001b[0m \u001b[0;34m=\u001b[0m \u001b[0mself\u001b[0m\u001b[0;34m.\u001b[0m\u001b[0mforward\u001b[0m\u001b[0;34m(\u001b[0m\u001b[0;34m*\u001b[0m\u001b[0minput\u001b[0m\u001b[0;34m,\u001b[0m \u001b[0;34m**\u001b[0m\u001b[0mkwargs\u001b[0m\u001b[0;34m)\u001b[0m\u001b[0;34m\u001b[0m\u001b[0;34m\u001b[0m\u001b[0m\n\u001b[0m\u001b[1;32m   1179\u001b[0m         \u001b[0;32mfinally\u001b[0m\u001b[0;34m:\u001b[0m\u001b[0;34m\u001b[0m\u001b[0;34m\u001b[0m\u001b[0m\n\u001b[1;32m   1180\u001b[0m             \u001b[0;32mif\u001b[0m \u001b[0mrecording_scopes\u001b[0m\u001b[0;34m:\u001b[0m\u001b[0;34m\u001b[0m\u001b[0;34m\u001b[0m\u001b[0m\n",
            "\u001b[0;32m/usr/local/lib/python3.8/dist-packages/torch/nn/modules/pooling.py\u001b[0m in \u001b[0;36mforward\u001b[0;34m(self, input)\u001b[0m\n\u001b[1;32m    164\u001b[0m \u001b[0;34m\u001b[0m\u001b[0m\n\u001b[1;32m    165\u001b[0m     \u001b[0;32mdef\u001b[0m \u001b[0mforward\u001b[0m\u001b[0;34m(\u001b[0m\u001b[0mself\u001b[0m\u001b[0;34m,\u001b[0m \u001b[0minput\u001b[0m\u001b[0;34m:\u001b[0m \u001b[0mTensor\u001b[0m\u001b[0;34m)\u001b[0m\u001b[0;34m:\u001b[0m\u001b[0;34m\u001b[0m\u001b[0;34m\u001b[0m\u001b[0m\n\u001b[0;32m--> 166\u001b[0;31m         return F.max_pool2d(input, self.kernel_size, self.stride,\n\u001b[0m\u001b[1;32m    167\u001b[0m                             \u001b[0mself\u001b[0m\u001b[0;34m.\u001b[0m\u001b[0mpadding\u001b[0m\u001b[0;34m,\u001b[0m \u001b[0mself\u001b[0m\u001b[0;34m.\u001b[0m\u001b[0mdilation\u001b[0m\u001b[0;34m,\u001b[0m \u001b[0mceil_mode\u001b[0m\u001b[0;34m=\u001b[0m\u001b[0mself\u001b[0m\u001b[0;34m.\u001b[0m\u001b[0mceil_mode\u001b[0m\u001b[0;34m,\u001b[0m\u001b[0;34m\u001b[0m\u001b[0;34m\u001b[0m\u001b[0m\n\u001b[1;32m    168\u001b[0m                             return_indices=self.return_indices)\n",
            "\u001b[0;32m/usr/local/lib/python3.8/dist-packages/torch/_jit_internal.py\u001b[0m in \u001b[0;36mfn\u001b[0;34m(*args, **kwargs)\u001b[0m\n\u001b[1;32m    483\u001b[0m             \u001b[0;32mreturn\u001b[0m \u001b[0mif_true\u001b[0m\u001b[0;34m(\u001b[0m\u001b[0;34m*\u001b[0m\u001b[0margs\u001b[0m\u001b[0;34m,\u001b[0m \u001b[0;34m**\u001b[0m\u001b[0mkwargs\u001b[0m\u001b[0;34m)\u001b[0m\u001b[0;34m\u001b[0m\u001b[0;34m\u001b[0m\u001b[0m\n\u001b[1;32m    484\u001b[0m         \u001b[0;32melse\u001b[0m\u001b[0;34m:\u001b[0m\u001b[0;34m\u001b[0m\u001b[0;34m\u001b[0m\u001b[0m\n\u001b[0;32m--> 485\u001b[0;31m             \u001b[0;32mreturn\u001b[0m \u001b[0mif_false\u001b[0m\u001b[0;34m(\u001b[0m\u001b[0;34m*\u001b[0m\u001b[0margs\u001b[0m\u001b[0;34m,\u001b[0m \u001b[0;34m**\u001b[0m\u001b[0mkwargs\u001b[0m\u001b[0;34m)\u001b[0m\u001b[0;34m\u001b[0m\u001b[0;34m\u001b[0m\u001b[0m\n\u001b[0m\u001b[1;32m    486\u001b[0m \u001b[0;34m\u001b[0m\u001b[0m\n\u001b[1;32m    487\u001b[0m     \u001b[0;32mif\u001b[0m \u001b[0mif_true\u001b[0m\u001b[0;34m.\u001b[0m\u001b[0m__doc__\u001b[0m \u001b[0;32mis\u001b[0m \u001b[0;32mNone\u001b[0m \u001b[0;32mand\u001b[0m \u001b[0mif_false\u001b[0m\u001b[0;34m.\u001b[0m\u001b[0m__doc__\u001b[0m \u001b[0;32mis\u001b[0m \u001b[0;32mnot\u001b[0m \u001b[0;32mNone\u001b[0m\u001b[0;34m:\u001b[0m\u001b[0;34m\u001b[0m\u001b[0;34m\u001b[0m\u001b[0m\n",
            "\u001b[0;32m/usr/local/lib/python3.8/dist-packages/torch/nn/functional.py\u001b[0m in \u001b[0;36m_max_pool2d\u001b[0;34m(input, kernel_size, stride, padding, dilation, ceil_mode, return_indices)\u001b[0m\n\u001b[1;32m    780\u001b[0m     \u001b[0;32mif\u001b[0m \u001b[0mstride\u001b[0m \u001b[0;32mis\u001b[0m \u001b[0;32mNone\u001b[0m\u001b[0;34m:\u001b[0m\u001b[0;34m\u001b[0m\u001b[0;34m\u001b[0m\u001b[0m\n\u001b[1;32m    781\u001b[0m         \u001b[0mstride\u001b[0m \u001b[0;34m=\u001b[0m \u001b[0mtorch\u001b[0m\u001b[0;34m.\u001b[0m\u001b[0mjit\u001b[0m\u001b[0;34m.\u001b[0m\u001b[0mannotate\u001b[0m\u001b[0;34m(\u001b[0m\u001b[0mList\u001b[0m\u001b[0;34m[\u001b[0m\u001b[0mint\u001b[0m\u001b[0;34m]\u001b[0m\u001b[0;34m,\u001b[0m \u001b[0;34m[\u001b[0m\u001b[0;34m]\u001b[0m\u001b[0;34m)\u001b[0m\u001b[0;34m\u001b[0m\u001b[0;34m\u001b[0m\u001b[0m\n\u001b[0;32m--> 782\u001b[0;31m     \u001b[0;32mreturn\u001b[0m \u001b[0mtorch\u001b[0m\u001b[0;34m.\u001b[0m\u001b[0mmax_pool2d\u001b[0m\u001b[0;34m(\u001b[0m\u001b[0minput\u001b[0m\u001b[0;34m,\u001b[0m \u001b[0mkernel_size\u001b[0m\u001b[0;34m,\u001b[0m \u001b[0mstride\u001b[0m\u001b[0;34m,\u001b[0m \u001b[0mpadding\u001b[0m\u001b[0;34m,\u001b[0m \u001b[0mdilation\u001b[0m\u001b[0;34m,\u001b[0m \u001b[0mceil_mode\u001b[0m\u001b[0;34m)\u001b[0m\u001b[0;34m\u001b[0m\u001b[0;34m\u001b[0m\u001b[0m\n\u001b[0m\u001b[1;32m    783\u001b[0m \u001b[0;34m\u001b[0m\u001b[0m\n\u001b[1;32m    784\u001b[0m \u001b[0;34m\u001b[0m\u001b[0m\n",
            "\u001b[0;31mRuntimeError\u001b[0m: Given input size: (6x1x6). Calculated output size: (6x0x3). Output size is too small"
          ]
        }
      ]
    },
    {
      "cell_type": "markdown",
      "source": [
        "unable to understand the input feature here, like 3 channels are understandable, next is kernel size of 5, i am assuming 10 is output classes, so (x,3,5,10) is input shape in my assumption. due to this model is unable to be saved. "
      ],
      "metadata": {
        "id": "in5osv1k7uco"
      }
    },
    {
      "cell_type": "markdown",
      "source": [
        "###However following an .onnx file derived after training Yolov5 is saved seperately in Data_5"
      ],
      "metadata": {
        "id": "5vuxWaXL8CnR"
      }
    },
    {
      "cell_type": "markdown",
      "source": [
        "# Inference from the model : "
      ],
      "metadata": {
        "id": "VD8Zb1zS-1Kz"
      }
    },
    {
      "cell_type": "code",
      "source": [
        "import onnx\n",
        "onnx_model = onnx.load(\"/content/best.onnx\")\n",
        "onnx.checker.check_model(onnx_model)"
      ],
      "metadata": {
        "id": "z_iFLmag-dQL"
      },
      "execution_count": 138,
      "outputs": []
    },
    {
      "cell_type": "code",
      "source": [
        "!pip install onnxruntime"
      ],
      "metadata": {
        "colab": {
          "base_uri": "https://localhost:8080/"
        },
        "id": "_LTp0S2BChZM",
        "outputId": "618829b7-96ab-46d0-bdd6-33d2d3ca9e19"
      },
      "execution_count": 141,
      "outputs": [
        {
          "output_type": "stream",
          "name": "stdout",
          "text": [
            "Looking in indexes: https://pypi.org/simple, https://us-python.pkg.dev/colab-wheels/public/simple/\n",
            "Collecting onnxruntime\n",
            "  Downloading onnxruntime-1.13.1-cp38-cp38-manylinux_2_27_x86_64.whl (4.5 MB)\n",
            "\u001b[2K     \u001b[90m━━━━━━━━━━━━━━━━━━━━━━━━━━━━━━━━━━━━━━━━\u001b[0m \u001b[32m4.5/4.5 MB\u001b[0m \u001b[31m71.8 MB/s\u001b[0m eta \u001b[36m0:00:00\u001b[0m\n",
            "\u001b[?25hRequirement already satisfied: protobuf in /usr/local/lib/python3.8/dist-packages (from onnxruntime) (3.20.3)\n",
            "Requirement already satisfied: numpy>=1.21.6 in /usr/local/lib/python3.8/dist-packages (from onnxruntime) (1.21.6)\n",
            "Requirement already satisfied: flatbuffers in /usr/local/lib/python3.8/dist-packages (from onnxruntime) (1.12)\n",
            "Collecting coloredlogs\n",
            "  Downloading coloredlogs-15.0.1-py2.py3-none-any.whl (46 kB)\n",
            "\u001b[2K     \u001b[90m━━━━━━━━━━━━━━━━━━━━━━━━━━━━━━━━━━━━━━━━\u001b[0m \u001b[32m46.0/46.0 KB\u001b[0m \u001b[31m6.4 MB/s\u001b[0m eta \u001b[36m0:00:00\u001b[0m\n",
            "\u001b[?25hRequirement already satisfied: sympy in /usr/local/lib/python3.8/dist-packages (from onnxruntime) (1.7.1)\n",
            "Requirement already satisfied: packaging in /usr/local/lib/python3.8/dist-packages (from onnxruntime) (21.3)\n",
            "Collecting humanfriendly>=9.1\n",
            "  Downloading humanfriendly-10.0-py2.py3-none-any.whl (86 kB)\n",
            "\u001b[2K     \u001b[90m━━━━━━━━━━━━━━━━━━━━━━━━━━━━━━━━━━━━━━━━\u001b[0m \u001b[32m86.8/86.8 KB\u001b[0m \u001b[31m12.8 MB/s\u001b[0m eta \u001b[36m0:00:00\u001b[0m\n",
            "\u001b[?25hRequirement already satisfied: pyparsing!=3.0.5,>=2.0.2 in /usr/local/lib/python3.8/dist-packages (from packaging->onnxruntime) (2.4.7)\n",
            "Requirement already satisfied: mpmath>=0.19 in /usr/local/lib/python3.8/dist-packages (from sympy->onnxruntime) (1.2.1)\n",
            "Installing collected packages: humanfriendly, coloredlogs, onnxruntime\n",
            "Successfully installed coloredlogs-15.0.1 humanfriendly-10.0 onnxruntime-1.13.1\n"
          ]
        }
      ]
    },
    {
      "cell_type": "code",
      "source": [
        "import onnxruntime as rt\n",
        "import numpy\n",
        "sess = rt.InferenceSession(\"/content/best.onnx\")"
      ],
      "metadata": {
        "id": "Xi4RFplfCqT1"
      },
      "execution_count": 153,
      "outputs": []
    },
    {
      "cell_type": "code",
      "source": [
        "x = torch.randn(1,3,224,224)"
      ],
      "metadata": {
        "id": "Y7hV-gDSC76X"
      },
      "execution_count": 152,
      "outputs": []
    },
    {
      "cell_type": "code",
      "source": [],
      "metadata": {
        "id": "FuxmVYJtDwCY"
      },
      "execution_count": null,
      "outputs": []
    }
  ]
}